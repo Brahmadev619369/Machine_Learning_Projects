{
 "cells": [
  {
   "cell_type": "markdown",
   "id": "6f4ce593",
   "metadata": {},
   "source": [
    "# Types of Recommender Systems\n",
    "## A) Content-Based Movie Recommendation Systems:\n",
    "***Content-based*** methods are based on the similarity of movie attributes. Using this type of recommender system, if a user watches one movie, similar movies are recommended. For example, if a user watches a comedy movie starring Adam Sandler, the system will recommend them movies in the same genre or starring the same actor, or both. \n"
   ]
  },
  {
   "attachments": {
    "con.webp": {
     "image/webp": "[encoded data removed]"
    }
   },
   "cell_type": "markdown",
   "id": "3044ce2b",
   "metadata": {},
   "source": [
    "![con.webp](attachment:con.webp)"
   ]
  },
  {
   "cell_type": "markdown",
   "id": "bb833f61",
   "metadata": {},
   "source": [
    "## B) Collaborative Filtering Movie Recommendation Systems:\n",
    "With ***collaborative filtering***, the system is based on past interactions between users and movies.\n",
    "For example, if user A watches M1, M2, and M3, and user B watches M1, M3, M4, we recommend M1 and M3 to a similar user C."
   ]
  },
  {
   "attachments": {
    "colla.webp": {
     "image/webp": "[encoded data removed]"
    }
   },
   "cell_type": "markdown",
   "id": "dd37334a",
   "metadata": {},
   "source": [
    "![colla.webp](attachment:colla.webp)"
   ]
  },
  {
   "cell_type": "markdown",
   "id": "f3a59edd",
   "metadata": {},
   "source": [
    "## C) Hybrid Recommendation System\n",
    "A ***hybrid*** recommendation system is a special type of recommendation system which can be considered as the combination of the content and collaborative filtering method. "
   ]
  },
  {
   "cell_type": "markdown",
   "id": "e7543c18",
   "metadata": {},
   "source": [
    "## We will use Content-Based Movie Recommendation Systems"
   ]
  },
  {
   "cell_type": "code",
   "execution_count": 1,
   "id": "6d31b348",
   "metadata": {},
   "outputs": [],
   "source": [
    "import pandas as pd\n",
    "import numpy as np\n",
    "import ast\n",
    "from nltk.corpus import stopwords\n",
    "from nltk import word_tokenize\n",
    "import string\n",
    "from IPython.display import Image\n",
    "from nltk.stem import PorterStemmer\n",
    "from sklearn.feature_extraction.text import CountVectorizer , TfidfVectorizer\n",
    "from sklearn.metrics.pairwise import cosine_similarity"
   ]
  },
  {
   "cell_type": "markdown",
   "id": "dcbf51c9",
   "metadata": {},
   "source": [
    "***Data loading***\n",
    "- id - A unique identifier for each movie.\n",
    "- title - Title of the movie.\n",
    "- overview - A brief description of the movie.\n",
    "- poster_path - Poster of the movie.\n",
    "- popularity - A numeric quantity specifying the movie popularity.\n",
    "- release_date - The date on which it was released.\n",
    "- vote_average - average ratings the movie recieved.\n",
    "- vote_count - the count of votes recieved.\n",
    "- original_language - The language in which the movie was made.\n",
    "\n",
    "- cast - The name of lead and supporting actors.\n",
    "- crew - The name of Director, Editor, Composer, Writer etc.\n",
    "\n",
    "- genre - The genre of the movie, Action, Comedy ,Thriller etc.\n",
    "\n",
    "- keywords - The keywords or tags related to the movie."
   ]
  },
  {
   "cell_type": "code",
   "execution_count": 2,
   "id": "73d73605",
   "metadata": {},
   "outputs": [],
   "source": [
    "movies = pd.read_csv('DATA/movies.csv')\n",
    "credits = pd.read_csv('DATA/credits.csv')\n",
    "genres = pd.read_csv('DATA/genres.csv')\n",
    "keywords = pd.read_csv('DATA/keywords.csv')"
   ]
  },
  {
   "cell_type": "code",
   "execution_count": 9,
   "id": "059f6015",
   "metadata": {},
   "outputs": [
    {
     "name": "stdout",
     "output_type": "stream",
     "text": [
      "(10000, 9)\n",
      "(10000, 4)\n",
      "(10000, 3)\n",
      "(10000, 3)\n"
     ]
    }
   ],
   "source": [
    "print(movies.shape)\n",
    "print(credits.shape)\n",
    "print(genres.shape)\n",
    "print(keywords.shape)"
   ]
  },
  {
   "cell_type": "code",
   "execution_count": 5,
   "id": "78c69adb",
   "metadata": {},
   "outputs": [
    {
     "data": {
      "text/html": [
       "<div>\n",
       "<style scoped>\n",
       "    .dataframe tbody tr th:only-of-type {\n",
       "        vertical-align: middle;\n",
       "    }\n",
       "\n",
       "    .dataframe tbody tr th {\n",
       "        vertical-align: top;\n",
       "    }\n",
       "\n",
       "    .dataframe thead th {\n",
       "        text-align: right;\n",
       "    }\n",
       "</style>\n",
       "<table border=\"1\" class=\"dataframe\">\n",
       "  <thead>\n",
       "    <tr style=\"text-align: right;\">\n",
       "      <th></th>\n",
       "      <th>Unnamed: 0</th>\n",
       "      <th>id</th>\n",
       "      <th>title</th>\n",
       "      <th>overview</th>\n",
       "      <th>poster_path</th>\n",
       "      <th>popularity</th>\n",
       "      <th>release_date</th>\n",
       "      <th>vote_average</th>\n",
       "      <th>original_language</th>\n",
       "    </tr>\n",
       "  </thead>\n",
       "  <tbody>\n",
       "    <tr>\n",
       "      <th>0</th>\n",
       "      <td>0</td>\n",
       "      <td>238</td>\n",
       "      <td>The Godfather</td>\n",
       "      <td>Spanning the years 1945 to 1955, a chronicle o...</td>\n",
       "      <td>/3bhkrj58Vtu7enYsRolD1fZdja1.jpg</td>\n",
       "      <td>123.773</td>\n",
       "      <td>1972-03-14</td>\n",
       "      <td>8.7</td>\n",
       "      <td>en</td>\n",
       "    </tr>\n",
       "    <tr>\n",
       "      <th>1</th>\n",
       "      <td>1</td>\n",
       "      <td>278</td>\n",
       "      <td>The Shawshank Redemption</td>\n",
       "      <td>Framed in the 1940s for the double murder of h...</td>\n",
       "      <td>/lyQBXzOQSuE59IsHyhrp0qIiPAz.jpg</td>\n",
       "      <td>132.698</td>\n",
       "      <td>1994-09-23</td>\n",
       "      <td>8.7</td>\n",
       "      <td>en</td>\n",
       "    </tr>\n",
       "  </tbody>\n",
       "</table>\n",
       "</div>"
      ],
      "text/plain": [
       "   Unnamed: 0   id                     title  \\\n",
       "0           0  238             The Godfather   \n",
       "1           1  278  The Shawshank Redemption   \n",
       "\n",
       "                                            overview  \\\n",
       "0  Spanning the years 1945 to 1955, a chronicle o...   \n",
       "1  Framed in the 1940s for the double murder of h...   \n",
       "\n",
       "                        poster_path  popularity release_date  vote_average  \\\n",
       "0  /3bhkrj58Vtu7enYsRolD1fZdja1.jpg     123.773   1972-03-14           8.7   \n",
       "1  /lyQBXzOQSuE59IsHyhrp0qIiPAz.jpg     132.698   1994-09-23           8.7   \n",
       "\n",
       "  original_language  \n",
       "0                en  \n",
       "1                en  "
      ]
     },
     "execution_count": 5,
     "metadata": {},
     "output_type": "execute_result"
    }
   ],
   "source": [
    "movies.head(2)"
   ]
  },
  {
   "cell_type": "code",
   "execution_count": 6,
   "id": "1034320e",
   "metadata": {},
   "outputs": [
    {
     "data": {
      "text/html": [
       "<div>\n",
       "<style scoped>\n",
       "    .dataframe tbody tr th:only-of-type {\n",
       "        vertical-align: middle;\n",
       "    }\n",
       "\n",
       "    .dataframe tbody tr th {\n",
       "        vertical-align: top;\n",
       "    }\n",
       "\n",
       "    .dataframe thead th {\n",
       "        text-align: right;\n",
       "    }\n",
       "</style>\n",
       "<table border=\"1\" class=\"dataframe\">\n",
       "  <thead>\n",
       "    <tr style=\"text-align: right;\">\n",
       "      <th></th>\n",
       "      <th>Unnamed: 0</th>\n",
       "      <th>id</th>\n",
       "      <th>cast</th>\n",
       "      <th>crew</th>\n",
       "    </tr>\n",
       "  </thead>\n",
       "  <tbody>\n",
       "    <tr>\n",
       "      <th>0</th>\n",
       "      <td>0</td>\n",
       "      <td>238</td>\n",
       "      <td>[{'adult': False, 'gender': 2, 'id': 3084, 'kn...</td>\n",
       "      <td>[{'adult': False, 'gender': 2, 'id': 154, 'kno...</td>\n",
       "    </tr>\n",
       "    <tr>\n",
       "      <th>1</th>\n",
       "      <td>1</td>\n",
       "      <td>278</td>\n",
       "      <td>[{'adult': False, 'gender': 2, 'id': 504, 'kno...</td>\n",
       "      <td>[{'adult': False, 'gender': 2, 'id': 153, 'kno...</td>\n",
       "    </tr>\n",
       "  </tbody>\n",
       "</table>\n",
       "</div>"
      ],
      "text/plain": [
       "   Unnamed: 0   id                                               cast  \\\n",
       "0           0  238  [{'adult': False, 'gender': 2, 'id': 3084, 'kn...   \n",
       "1           1  278  [{'adult': False, 'gender': 2, 'id': 504, 'kno...   \n",
       "\n",
       "                                                crew  \n",
       "0  [{'adult': False, 'gender': 2, 'id': 154, 'kno...  \n",
       "1  [{'adult': False, 'gender': 2, 'id': 153, 'kno...  "
      ]
     },
     "execution_count": 6,
     "metadata": {},
     "output_type": "execute_result"
    }
   ],
   "source": [
    "credits.head(2)"
   ]
  },
  {
   "cell_type": "code",
   "execution_count": 7,
   "id": "c892963d",
   "metadata": {},
   "outputs": [
    {
     "data": {
      "text/html": [
       "<div>\n",
       "<style scoped>\n",
       "    .dataframe tbody tr th:only-of-type {\n",
       "        vertical-align: middle;\n",
       "    }\n",
       "\n",
       "    .dataframe tbody tr th {\n",
       "        vertical-align: top;\n",
       "    }\n",
       "\n",
       "    .dataframe thead th {\n",
       "        text-align: right;\n",
       "    }\n",
       "</style>\n",
       "<table border=\"1\" class=\"dataframe\">\n",
       "  <thead>\n",
       "    <tr style=\"text-align: right;\">\n",
       "      <th></th>\n",
       "      <th>Unnamed: 0</th>\n",
       "      <th>genres</th>\n",
       "      <th>id</th>\n",
       "    </tr>\n",
       "  </thead>\n",
       "  <tbody>\n",
       "    <tr>\n",
       "      <th>0</th>\n",
       "      <td>0</td>\n",
       "      <td>[{'id': 18, 'name': 'Drama'}, {'id': 80, 'name...</td>\n",
       "      <td>238</td>\n",
       "    </tr>\n",
       "    <tr>\n",
       "      <th>1</th>\n",
       "      <td>1</td>\n",
       "      <td>[{'id': 18, 'name': 'Drama'}, {'id': 80, 'name...</td>\n",
       "      <td>278</td>\n",
       "    </tr>\n",
       "  </tbody>\n",
       "</table>\n",
       "</div>"
      ],
      "text/plain": [
       "   Unnamed: 0                                             genres   id\n",
       "0           0  [{'id': 18, 'name': 'Drama'}, {'id': 80, 'name...  238\n",
       "1           1  [{'id': 18, 'name': 'Drama'}, {'id': 80, 'name...  278"
      ]
     },
     "execution_count": 7,
     "metadata": {},
     "output_type": "execute_result"
    }
   ],
   "source": [
    "genres.head(2)"
   ]
  },
  {
   "cell_type": "code",
   "execution_count": 8,
   "id": "427dba43",
   "metadata": {},
   "outputs": [
    {
     "data": {
      "text/html": [
       "<div>\n",
       "<style scoped>\n",
       "    .dataframe tbody tr th:only-of-type {\n",
       "        vertical-align: middle;\n",
       "    }\n",
       "\n",
       "    .dataframe tbody tr th {\n",
       "        vertical-align: top;\n",
       "    }\n",
       "\n",
       "    .dataframe thead th {\n",
       "        text-align: right;\n",
       "    }\n",
       "</style>\n",
       "<table border=\"1\" class=\"dataframe\">\n",
       "  <thead>\n",
       "    <tr style=\"text-align: right;\">\n",
       "      <th></th>\n",
       "      <th>Unnamed: 0</th>\n",
       "      <th>id</th>\n",
       "      <th>keywords</th>\n",
       "    </tr>\n",
       "  </thead>\n",
       "  <tbody>\n",
       "    <tr>\n",
       "      <th>0</th>\n",
       "      <td>0</td>\n",
       "      <td>238</td>\n",
       "      <td>[{'id': 131, 'name': 'italy'}, {'id': 697, 'na...</td>\n",
       "    </tr>\n",
       "    <tr>\n",
       "      <th>1</th>\n",
       "      <td>1</td>\n",
       "      <td>278</td>\n",
       "      <td>[{'id': 378, 'name': 'prison'}, {'id': 417, 'n...</td>\n",
       "    </tr>\n",
       "  </tbody>\n",
       "</table>\n",
       "</div>"
      ],
      "text/plain": [
       "   Unnamed: 0   id                                           keywords\n",
       "0           0  238  [{'id': 131, 'name': 'italy'}, {'id': 697, 'na...\n",
       "1           1  278  [{'id': 378, 'name': 'prison'}, {'id': 417, 'n..."
      ]
     },
     "execution_count": 8,
     "metadata": {},
     "output_type": "execute_result"
    }
   ],
   "source": [
    "keywords.head(2)"
   ]
  },
  {
   "cell_type": "code",
   "execution_count": 12,
   "id": "282daa60",
   "metadata": {},
   "outputs": [
    {
     "name": "stderr",
     "output_type": "stream",
     "text": [
      "C:\\Users\\Satya\\AppData\\Local\\Temp\\ipykernel_8372\\2576068393.py:1: FutureWarning: Passing 'suffixes' which cause duplicate columns {'Unnamed: 0_x'} in the result is deprecated and will raise a MergeError in a future version.\n",
      "  movies_df = movies.merge(genres , on='id').merge(keywords ,on='id').merge(credits , on='id')\n"
     ]
    }
   ],
   "source": [
    "# merge all the dataframe using id\n",
    "movies_df = movies.merge(genres , on='id').merge(keywords ,on='id').merge(credits , on='id')"
   ]
  },
  {
   "cell_type": "code",
   "execution_count": 13,
   "id": "39b536c7",
   "metadata": {
    "scrolled": true
   },
   "outputs": [
    {
     "data": {
      "text/html": [
       "<div>\n",
       "<style scoped>\n",
       "    .dataframe tbody tr th:only-of-type {\n",
       "        vertical-align: middle;\n",
       "    }\n",
       "\n",
       "    .dataframe tbody tr th {\n",
       "        vertical-align: top;\n",
       "    }\n",
       "\n",
       "    .dataframe thead th {\n",
       "        text-align: right;\n",
       "    }\n",
       "</style>\n",
       "<table border=\"1\" class=\"dataframe\">\n",
       "  <thead>\n",
       "    <tr style=\"text-align: right;\">\n",
       "      <th></th>\n",
       "      <th>Unnamed: 0_x</th>\n",
       "      <th>id</th>\n",
       "      <th>title</th>\n",
       "      <th>overview</th>\n",
       "      <th>poster_path</th>\n",
       "      <th>popularity</th>\n",
       "      <th>release_date</th>\n",
       "      <th>vote_average</th>\n",
       "      <th>original_language</th>\n",
       "      <th>Unnamed: 0_y</th>\n",
       "      <th>genres</th>\n",
       "      <th>Unnamed: 0_x</th>\n",
       "      <th>keywords</th>\n",
       "      <th>Unnamed: 0_y</th>\n",
       "      <th>cast</th>\n",
       "      <th>crew</th>\n",
       "    </tr>\n",
       "  </thead>\n",
       "  <tbody>\n",
       "    <tr>\n",
       "      <th>0</th>\n",
       "      <td>0</td>\n",
       "      <td>238</td>\n",
       "      <td>The Godfather</td>\n",
       "      <td>Spanning the years 1945 to 1955, a chronicle o...</td>\n",
       "      <td>/3bhkrj58Vtu7enYsRolD1fZdja1.jpg</td>\n",
       "      <td>123.773</td>\n",
       "      <td>1972-03-14</td>\n",
       "      <td>8.7</td>\n",
       "      <td>en</td>\n",
       "      <td>0</td>\n",
       "      <td>[{'id': 18, 'name': 'Drama'}, {'id': 80, 'name...</td>\n",
       "      <td>0</td>\n",
       "      <td>[{'id': 131, 'name': 'italy'}, {'id': 697, 'na...</td>\n",
       "      <td>0</td>\n",
       "      <td>[{'adult': False, 'gender': 2, 'id': 3084, 'kn...</td>\n",
       "      <td>[{'adult': False, 'gender': 2, 'id': 154, 'kno...</td>\n",
       "    </tr>\n",
       "    <tr>\n",
       "      <th>1</th>\n",
       "      <td>1</td>\n",
       "      <td>278</td>\n",
       "      <td>The Shawshank Redemption</td>\n",
       "      <td>Framed in the 1940s for the double murder of h...</td>\n",
       "      <td>/lyQBXzOQSuE59IsHyhrp0qIiPAz.jpg</td>\n",
       "      <td>132.698</td>\n",
       "      <td>1994-09-23</td>\n",
       "      <td>8.7</td>\n",
       "      <td>en</td>\n",
       "      <td>1</td>\n",
       "      <td>[{'id': 18, 'name': 'Drama'}, {'id': 80, 'name...</td>\n",
       "      <td>1</td>\n",
       "      <td>[{'id': 378, 'name': 'prison'}, {'id': 417, 'n...</td>\n",
       "      <td>1</td>\n",
       "      <td>[{'adult': False, 'gender': 2, 'id': 504, 'kno...</td>\n",
       "      <td>[{'adult': False, 'gender': 2, 'id': 153, 'kno...</td>\n",
       "    </tr>\n",
       "    <tr>\n",
       "      <th>2</th>\n",
       "      <td>2</td>\n",
       "      <td>240</td>\n",
       "      <td>The Godfather Part II</td>\n",
       "      <td>In the continuing saga of the Corleone crime f...</td>\n",
       "      <td>/bMadFzhjy9T7R8J48QGq1ngWNAK.jpg</td>\n",
       "      <td>91.909</td>\n",
       "      <td>1974-12-20</td>\n",
       "      <td>8.6</td>\n",
       "      <td>en</td>\n",
       "      <td>2</td>\n",
       "      <td>[{'id': 18, 'name': 'Drama'}, {'id': 80, 'name...</td>\n",
       "      <td>2</td>\n",
       "      <td>[{'id': 131, 'name': 'italy'}, {'id': 700, 'na...</td>\n",
       "      <td>2</td>\n",
       "      <td>[{'adult': False, 'gender': 2, 'id': 1158, 'kn...</td>\n",
       "      <td>[{'adult': False, 'gender': 2, 'id': 154, 'kno...</td>\n",
       "    </tr>\n",
       "    <tr>\n",
       "      <th>3</th>\n",
       "      <td>3</td>\n",
       "      <td>424</td>\n",
       "      <td>Schindler's List</td>\n",
       "      <td>The true story of how businessman Oskar Schind...</td>\n",
       "      <td>/sF1U4EUQS8YHUYjNl3pMGNIQyr0.jpg</td>\n",
       "      <td>61.483</td>\n",
       "      <td>1993-12-15</td>\n",
       "      <td>8.6</td>\n",
       "      <td>en</td>\n",
       "      <td>3</td>\n",
       "      <td>[{'id': 18, 'name': 'Drama'}, {'id': 36, 'name...</td>\n",
       "      <td>3</td>\n",
       "      <td>[{'id': 818, 'name': 'based on novel or book'}...</td>\n",
       "      <td>3</td>\n",
       "      <td>[{'adult': False, 'gender': 2, 'id': 3896, 'kn...</td>\n",
       "      <td>[{'adult': False, 'gender': 2, 'id': 491, 'kno...</td>\n",
       "    </tr>\n",
       "    <tr>\n",
       "      <th>4</th>\n",
       "      <td>4</td>\n",
       "      <td>19404</td>\n",
       "      <td>Dilwale Dulhania Le Jayenge</td>\n",
       "      <td>Raj is a rich, carefree, happy-go-lucky second...</td>\n",
       "      <td>/ktejodbcdCPXbMMdnpI9BUxW6O8.jpg</td>\n",
       "      <td>52.514</td>\n",
       "      <td>1995-10-20</td>\n",
       "      <td>8.6</td>\n",
       "      <td>hi</td>\n",
       "      <td>4</td>\n",
       "      <td>[{'id': 35, 'name': 'Comedy'}, {'id': 18, 'nam...</td>\n",
       "      <td>4</td>\n",
       "      <td>[{'id': 2783, 'name': \"family's daily life\"}, ...</td>\n",
       "      <td>4</td>\n",
       "      <td>[{'adult': False, 'gender': 2, 'id': 35742, 'k...</td>\n",
       "      <td>[{'adult': False, 'gender': 1, 'id': 8311, 'kn...</td>\n",
       "    </tr>\n",
       "  </tbody>\n",
       "</table>\n",
       "</div>"
      ],
      "text/plain": [
       "   Unnamed: 0_x     id                        title  \\\n",
       "0             0    238                The Godfather   \n",
       "1             1    278     The Shawshank Redemption   \n",
       "2             2    240        The Godfather Part II   \n",
       "3             3    424             Schindler's List   \n",
       "4             4  19404  Dilwale Dulhania Le Jayenge   \n",
       "\n",
       "                                            overview  \\\n",
       "0  Spanning the years 1945 to 1955, a chronicle o...   \n",
       "1  Framed in the 1940s for the double murder of h...   \n",
       "2  In the continuing saga of the Corleone crime f...   \n",
       "3  The true story of how businessman Oskar Schind...   \n",
       "4  Raj is a rich, carefree, happy-go-lucky second...   \n",
       "\n",
       "                        poster_path  popularity release_date  vote_average  \\\n",
       "0  /3bhkrj58Vtu7enYsRolD1fZdja1.jpg     123.773   1972-03-14           8.7   \n",
       "1  /lyQBXzOQSuE59IsHyhrp0qIiPAz.jpg     132.698   1994-09-23           8.7   \n",
       "2  /bMadFzhjy9T7R8J48QGq1ngWNAK.jpg      91.909   1974-12-20           8.6   \n",
       "3  /sF1U4EUQS8YHUYjNl3pMGNIQyr0.jpg      61.483   1993-12-15           8.6   \n",
       "4  /ktejodbcdCPXbMMdnpI9BUxW6O8.jpg      52.514   1995-10-20           8.6   \n",
       "\n",
       "  original_language  Unnamed: 0_y  \\\n",
       "0                en             0   \n",
       "1                en             1   \n",
       "2                en             2   \n",
       "3                en             3   \n",
       "4                hi             4   \n",
       "\n",
       "                                              genres  Unnamed: 0_x  \\\n",
       "0  [{'id': 18, 'name': 'Drama'}, {'id': 80, 'name...             0   \n",
       "1  [{'id': 18, 'name': 'Drama'}, {'id': 80, 'name...             1   \n",
       "2  [{'id': 18, 'name': 'Drama'}, {'id': 80, 'name...             2   \n",
       "3  [{'id': 18, 'name': 'Drama'}, {'id': 36, 'name...             3   \n",
       "4  [{'id': 35, 'name': 'Comedy'}, {'id': 18, 'nam...             4   \n",
       "\n",
       "                                            keywords  Unnamed: 0_y  \\\n",
       "0  [{'id': 131, 'name': 'italy'}, {'id': 697, 'na...             0   \n",
       "1  [{'id': 378, 'name': 'prison'}, {'id': 417, 'n...             1   \n",
       "2  [{'id': 131, 'name': 'italy'}, {'id': 700, 'na...             2   \n",
       "3  [{'id': 818, 'name': 'based on novel or book'}...             3   \n",
       "4  [{'id': 2783, 'name': \"family's daily life\"}, ...             4   \n",
       "\n",
       "                                                cast  \\\n",
       "0  [{'adult': False, 'gender': 2, 'id': 3084, 'kn...   \n",
       "1  [{'adult': False, 'gender': 2, 'id': 504, 'kno...   \n",
       "2  [{'adult': False, 'gender': 2, 'id': 1158, 'kn...   \n",
       "3  [{'adult': False, 'gender': 2, 'id': 3896, 'kn...   \n",
       "4  [{'adult': False, 'gender': 2, 'id': 35742, 'k...   \n",
       "\n",
       "                                                crew  \n",
       "0  [{'adult': False, 'gender': 2, 'id': 154, 'kno...  \n",
       "1  [{'adult': False, 'gender': 2, 'id': 153, 'kno...  \n",
       "2  [{'adult': False, 'gender': 2, 'id': 154, 'kno...  \n",
       "3  [{'adult': False, 'gender': 2, 'id': 491, 'kno...  \n",
       "4  [{'adult': False, 'gender': 1, 'id': 8311, 'kn...  "
      ]
     },
     "execution_count": 13,
     "metadata": {},
     "output_type": "execute_result"
    }
   ],
   "source": [
    "movies_df.head()"
   ]
  },
  {
   "cell_type": "code",
   "execution_count": 14,
   "id": "fd6b11b3",
   "metadata": {},
   "outputs": [
    {
     "data": {
      "text/plain": [
       "10000"
      ]
     },
     "execution_count": 14,
     "metadata": {},
     "output_type": "execute_result"
    }
   ],
   "source": [
    "len(movies_df)"
   ]
  },
  {
   "cell_type": "markdown",
   "id": "7ca0875e",
   "metadata": {},
   "source": [
    "# Preprocessing"
   ]
  },
  {
   "cell_type": "markdown",
   "id": "18feeb6d",
   "metadata": {},
   "source": [
    "### filter essential cols"
   ]
  },
  {
   "cell_type": "code",
   "execution_count": 15,
   "id": "7442f052",
   "metadata": {},
   "outputs": [],
   "source": [
    "# id  , title , overview , genres , keywords , cast , crew\n",
    "\n",
    "movies_df = movies_df[['id' , 'title' , 'overview' , 'genres' , 'keywords' , 'cast' ,'crew']]"
   ]
  },
  {
   "cell_type": "code",
   "execution_count": 16,
   "id": "50054604",
   "metadata": {
    "scrolled": true
   },
   "outputs": [
    {
     "data": {
      "text/html": [
       "<div>\n",
       "<style scoped>\n",
       "    .dataframe tbody tr th:only-of-type {\n",
       "        vertical-align: middle;\n",
       "    }\n",
       "\n",
       "    .dataframe tbody tr th {\n",
       "        vertical-align: top;\n",
       "    }\n",
       "\n",
       "    .dataframe thead th {\n",
       "        text-align: right;\n",
       "    }\n",
       "</style>\n",
       "<table border=\"1\" class=\"dataframe\">\n",
       "  <thead>\n",
       "    <tr style=\"text-align: right;\">\n",
       "      <th></th>\n",
       "      <th>id</th>\n",
       "      <th>title</th>\n",
       "      <th>overview</th>\n",
       "      <th>genres</th>\n",
       "      <th>keywords</th>\n",
       "      <th>cast</th>\n",
       "      <th>crew</th>\n",
       "    </tr>\n",
       "  </thead>\n",
       "  <tbody>\n",
       "    <tr>\n",
       "      <th>0</th>\n",
       "      <td>238</td>\n",
       "      <td>The Godfather</td>\n",
       "      <td>Spanning the years 1945 to 1955, a chronicle o...</td>\n",
       "      <td>[{'id': 18, 'name': 'Drama'}, {'id': 80, 'name...</td>\n",
       "      <td>[{'id': 131, 'name': 'italy'}, {'id': 697, 'na...</td>\n",
       "      <td>[{'adult': False, 'gender': 2, 'id': 3084, 'kn...</td>\n",
       "      <td>[{'adult': False, 'gender': 2, 'id': 154, 'kno...</td>\n",
       "    </tr>\n",
       "    <tr>\n",
       "      <th>1</th>\n",
       "      <td>278</td>\n",
       "      <td>The Shawshank Redemption</td>\n",
       "      <td>Framed in the 1940s for the double murder of h...</td>\n",
       "      <td>[{'id': 18, 'name': 'Drama'}, {'id': 80, 'name...</td>\n",
       "      <td>[{'id': 378, 'name': 'prison'}, {'id': 417, 'n...</td>\n",
       "      <td>[{'adult': False, 'gender': 2, 'id': 504, 'kno...</td>\n",
       "      <td>[{'adult': False, 'gender': 2, 'id': 153, 'kno...</td>\n",
       "    </tr>\n",
       "    <tr>\n",
       "      <th>2</th>\n",
       "      <td>240</td>\n",
       "      <td>The Godfather Part II</td>\n",
       "      <td>In the continuing saga of the Corleone crime f...</td>\n",
       "      <td>[{'id': 18, 'name': 'Drama'}, {'id': 80, 'name...</td>\n",
       "      <td>[{'id': 131, 'name': 'italy'}, {'id': 700, 'na...</td>\n",
       "      <td>[{'adult': False, 'gender': 2, 'id': 1158, 'kn...</td>\n",
       "      <td>[{'adult': False, 'gender': 2, 'id': 154, 'kno...</td>\n",
       "    </tr>\n",
       "    <tr>\n",
       "      <th>3</th>\n",
       "      <td>424</td>\n",
       "      <td>Schindler's List</td>\n",
       "      <td>The true story of how businessman Oskar Schind...</td>\n",
       "      <td>[{'id': 18, 'name': 'Drama'}, {'id': 36, 'name...</td>\n",
       "      <td>[{'id': 818, 'name': 'based on novel or book'}...</td>\n",
       "      <td>[{'adult': False, 'gender': 2, 'id': 3896, 'kn...</td>\n",
       "      <td>[{'adult': False, 'gender': 2, 'id': 491, 'kno...</td>\n",
       "    </tr>\n",
       "    <tr>\n",
       "      <th>4</th>\n",
       "      <td>19404</td>\n",
       "      <td>Dilwale Dulhania Le Jayenge</td>\n",
       "      <td>Raj is a rich, carefree, happy-go-lucky second...</td>\n",
       "      <td>[{'id': 35, 'name': 'Comedy'}, {'id': 18, 'nam...</td>\n",
       "      <td>[{'id': 2783, 'name': \"family's daily life\"}, ...</td>\n",
       "      <td>[{'adult': False, 'gender': 2, 'id': 35742, 'k...</td>\n",
       "      <td>[{'adult': False, 'gender': 1, 'id': 8311, 'kn...</td>\n",
       "    </tr>\n",
       "  </tbody>\n",
       "</table>\n",
       "</div>"
      ],
      "text/plain": [
       "      id                        title  \\\n",
       "0    238                The Godfather   \n",
       "1    278     The Shawshank Redemption   \n",
       "2    240        The Godfather Part II   \n",
       "3    424             Schindler's List   \n",
       "4  19404  Dilwale Dulhania Le Jayenge   \n",
       "\n",
       "                                            overview  \\\n",
       "0  Spanning the years 1945 to 1955, a chronicle o...   \n",
       "1  Framed in the 1940s for the double murder of h...   \n",
       "2  In the continuing saga of the Corleone crime f...   \n",
       "3  The true story of how businessman Oskar Schind...   \n",
       "4  Raj is a rich, carefree, happy-go-lucky second...   \n",
       "\n",
       "                                              genres  \\\n",
       "0  [{'id': 18, 'name': 'Drama'}, {'id': 80, 'name...   \n",
       "1  [{'id': 18, 'name': 'Drama'}, {'id': 80, 'name...   \n",
       "2  [{'id': 18, 'name': 'Drama'}, {'id': 80, 'name...   \n",
       "3  [{'id': 18, 'name': 'Drama'}, {'id': 36, 'name...   \n",
       "4  [{'id': 35, 'name': 'Comedy'}, {'id': 18, 'nam...   \n",
       "\n",
       "                                            keywords  \\\n",
       "0  [{'id': 131, 'name': 'italy'}, {'id': 697, 'na...   \n",
       "1  [{'id': 378, 'name': 'prison'}, {'id': 417, 'n...   \n",
       "2  [{'id': 131, 'name': 'italy'}, {'id': 700, 'na...   \n",
       "3  [{'id': 818, 'name': 'based on novel or book'}...   \n",
       "4  [{'id': 2783, 'name': \"family's daily life\"}, ...   \n",
       "\n",
       "                                                cast  \\\n",
       "0  [{'adult': False, 'gender': 2, 'id': 3084, 'kn...   \n",
       "1  [{'adult': False, 'gender': 2, 'id': 504, 'kno...   \n",
       "2  [{'adult': False, 'gender': 2, 'id': 1158, 'kn...   \n",
       "3  [{'adult': False, 'gender': 2, 'id': 3896, 'kn...   \n",
       "4  [{'adult': False, 'gender': 2, 'id': 35742, 'k...   \n",
       "\n",
       "                                                crew  \n",
       "0  [{'adult': False, 'gender': 2, 'id': 154, 'kno...  \n",
       "1  [{'adult': False, 'gender': 2, 'id': 153, 'kno...  \n",
       "2  [{'adult': False, 'gender': 2, 'id': 154, 'kno...  \n",
       "3  [{'adult': False, 'gender': 2, 'id': 491, 'kno...  \n",
       "4  [{'adult': False, 'gender': 1, 'id': 8311, 'kn...  "
      ]
     },
     "execution_count": 16,
     "metadata": {},
     "output_type": "execute_result"
    }
   ],
   "source": [
    "movies_df.head()"
   ]
  },
  {
   "cell_type": "markdown",
   "id": "55d142ad",
   "metadata": {},
   "source": [
    "### check missing values"
   ]
  },
  {
   "cell_type": "code",
   "execution_count": 17,
   "id": "d91b8886",
   "metadata": {},
   "outputs": [
    {
     "data": {
      "text/plain": [
       "id          0\n",
       "title       0\n",
       "overview    2\n",
       "genres      0\n",
       "keywords    0\n",
       "cast        0\n",
       "crew        0\n",
       "dtype: int64"
      ]
     },
     "execution_count": 17,
     "metadata": {},
     "output_type": "execute_result"
    }
   ],
   "source": [
    "movies_df.isnull().sum()"
   ]
  },
  {
   "cell_type": "markdown",
   "id": "f4add09f",
   "metadata": {},
   "source": [
    "### drop null values"
   ]
  },
  {
   "cell_type": "code",
   "execution_count": 22,
   "id": "09e45d4e",
   "metadata": {},
   "outputs": [
    {
     "name": "stderr",
     "output_type": "stream",
     "text": [
      "C:\\Users\\Satya\\AppData\\Local\\Temp\\ipykernel_8372\\191851754.py:1: SettingWithCopyWarning: \n",
      "A value is trying to be set on a copy of a slice from a DataFrame\n",
      "\n",
      "See the caveats in the documentation: https://pandas.pydata.org/pandas-docs/stable/user_guide/indexing.html#returning-a-view-versus-a-copy\n",
      "  movies_df.dropna(inplace=True)\n"
     ]
    }
   ],
   "source": [
    "movies_df.dropna(inplace=True)"
   ]
  },
  {
   "cell_type": "markdown",
   "id": "815c3dc1",
   "metadata": {},
   "source": [
    "### Extract name from genres and keywords cols"
   ]
  },
  {
   "cell_type": "code",
   "execution_count": 26,
   "id": "43d51874",
   "metadata": {},
   "outputs": [
    {
     "data": {
      "text/plain": [
       "\"[{'id': 18, 'name': 'Drama'}, {'id': 80, 'name': 'Crime'}]\""
      ]
     },
     "execution_count": 26,
     "metadata": {},
     "output_type": "execute_result"
    }
   ],
   "source": [
    "movies_df['genres'][0]"
   ]
  },
  {
   "cell_type": "code",
   "execution_count": 27,
   "id": "2192dd29",
   "metadata": {
    "scrolled": true
   },
   "outputs": [
    {
     "data": {
      "text/plain": [
       "str"
      ]
     },
     "execution_count": 27,
     "metadata": {},
     "output_type": "execute_result"
    }
   ],
   "source": [
    "type(movies_df['genres'][0])"
   ]
  },
  {
   "cell_type": "code",
   "execution_count": 29,
   "id": "f0c8a40b",
   "metadata": {},
   "outputs": [],
   "source": [
    "# this is str to iterate them we need to convert it into list"
   ]
  },
  {
   "cell_type": "code",
   "execution_count": 45,
   "id": "dcfe0320",
   "metadata": {},
   "outputs": [],
   "source": [
    "def fetch_genres_keywords(obj):\n",
    "    name = []\n",
    "    for i in ast.literal_eval(obj):\n",
    "        name.append(i['name'])\n",
    "    return name"
   ]
  },
  {
   "cell_type": "code",
   "execution_count": 47,
   "id": "9964d0c6",
   "metadata": {},
   "outputs": [],
   "source": [
    "# fetch genres name \n",
    "movies_df['genres'] = movies_df['genres'].apply(fetch_genres_keywords)"
   ]
  },
  {
   "cell_type": "code",
   "execution_count": 48,
   "id": "d6d52b89",
   "metadata": {},
   "outputs": [],
   "source": [
    "# fetch keywords name \n",
    "movies_df['keywords'] = movies_df['keywords'].apply(fetch_genres_keywords)"
   ]
  },
  {
   "cell_type": "markdown",
   "id": "2fcd8716",
   "metadata": {},
   "source": [
    "### now we'll extract top 5 cast from the cast col"
   ]
  },
  {
   "cell_type": "code",
   "execution_count": 62,
   "id": "8e9d2f5c",
   "metadata": {},
   "outputs": [],
   "source": [
    "def extract_cast_name(obj):\n",
    "    cast_name = []\n",
    "    counter = 0\n",
    "    for i in ast.literal_eval(obj):\n",
    "        if counter < 5: \n",
    "            cast_name.append(i['name'])\n",
    "            counter+=1\n",
    "        else:\n",
    "            break\n",
    "    return cast_name"
   ]
  },
  {
   "cell_type": "code",
   "execution_count": 68,
   "id": "566a95c1",
   "metadata": {},
   "outputs": [],
   "source": [
    "# fetch cast name \n",
    "movies_df['cast'] = movies_df['cast'].apply(extract_cast_name)"
   ]
  },
  {
   "cell_type": "markdown",
   "id": "01451036",
   "metadata": {},
   "source": [
    "### now we'll extract director name from crew col"
   ]
  },
  {
   "cell_type": "code",
   "execution_count": 75,
   "id": "c8e828e0",
   "metadata": {},
   "outputs": [],
   "source": [
    "def extract_director_name(obj):\n",
    "    director_name = []\n",
    "    for i in ast.literal_eval(obj):\n",
    "        if i['job'] == 'Director':\n",
    "            director_name.append(i['name'])\n",
    "            break\n",
    "    return director_name"
   ]
  },
  {
   "cell_type": "code",
   "execution_count": 80,
   "id": "fe0d0a84",
   "metadata": {},
   "outputs": [],
   "source": [
    "# fetch diretor name\n",
    "movies_df['director'] = movies_df['crew'].apply(extract_director_name)"
   ]
  },
  {
   "cell_type": "code",
   "execution_count": 81,
   "id": "bd0350ff",
   "metadata": {},
   "outputs": [
    {
     "data": {
      "text/html": [
       "<div>\n",
       "<style scoped>\n",
       "    .dataframe tbody tr th:only-of-type {\n",
       "        vertical-align: middle;\n",
       "    }\n",
       "\n",
       "    .dataframe tbody tr th {\n",
       "        vertical-align: top;\n",
       "    }\n",
       "\n",
       "    .dataframe thead th {\n",
       "        text-align: right;\n",
       "    }\n",
       "</style>\n",
       "<table border=\"1\" class=\"dataframe\">\n",
       "  <thead>\n",
       "    <tr style=\"text-align: right;\">\n",
       "      <th></th>\n",
       "      <th>id</th>\n",
       "      <th>title</th>\n",
       "      <th>overview</th>\n",
       "      <th>genres</th>\n",
       "      <th>keywords</th>\n",
       "      <th>cast</th>\n",
       "      <th>crew</th>\n",
       "      <th>director</th>\n",
       "    </tr>\n",
       "  </thead>\n",
       "  <tbody>\n",
       "    <tr>\n",
       "      <th>0</th>\n",
       "      <td>238</td>\n",
       "      <td>The Godfather</td>\n",
       "      <td>Spanning the years 1945 to 1955, a chronicle o...</td>\n",
       "      <td>[Drama, Crime]</td>\n",
       "      <td>[italy, loss of loved one, love at first sight...</td>\n",
       "      <td>[Marlon Brando, Al Pacino, James Caan, Robert ...</td>\n",
       "      <td>[{'adult': False, 'gender': 2, 'id': 154, 'kno...</td>\n",
       "      <td>[Francis Ford Coppola]</td>\n",
       "    </tr>\n",
       "    <tr>\n",
       "      <th>1</th>\n",
       "      <td>278</td>\n",
       "      <td>The Shawshank Redemption</td>\n",
       "      <td>Framed in the 1940s for the double murder of h...</td>\n",
       "      <td>[Drama, Crime]</td>\n",
       "      <td>[prison, corruption, police brutality, based o...</td>\n",
       "      <td>[Tim Robbins, Morgan Freeman, Bob Gunton, Will...</td>\n",
       "      <td>[{'adult': False, 'gender': 2, 'id': 153, 'kno...</td>\n",
       "      <td>[Frank Darabont]</td>\n",
       "    </tr>\n",
       "    <tr>\n",
       "      <th>2</th>\n",
       "      <td>240</td>\n",
       "      <td>The Godfather Part II</td>\n",
       "      <td>In the continuing saga of the Corleone crime f...</td>\n",
       "      <td>[Drama, Crime]</td>\n",
       "      <td>[italy, italian american, cuba, symbolism, gan...</td>\n",
       "      <td>[Al Pacino, Robert Duvall, Diane Keaton, Rober...</td>\n",
       "      <td>[{'adult': False, 'gender': 2, 'id': 154, 'kno...</td>\n",
       "      <td>[Francis Ford Coppola]</td>\n",
       "    </tr>\n",
       "    <tr>\n",
       "      <th>3</th>\n",
       "      <td>424</td>\n",
       "      <td>Schindler's List</td>\n",
       "      <td>The true story of how businessman Oskar Schind...</td>\n",
       "      <td>[Drama, History, War]</td>\n",
       "      <td>[based on novel or book, factory, concentratio...</td>\n",
       "      <td>[Liam Neeson, Ben Kingsley, Ralph Fiennes, Car...</td>\n",
       "      <td>[{'adult': False, 'gender': 2, 'id': 491, 'kno...</td>\n",
       "      <td>[Steven Spielberg]</td>\n",
       "    </tr>\n",
       "    <tr>\n",
       "      <th>4</th>\n",
       "      <td>19404</td>\n",
       "      <td>Dilwale Dulhania Le Jayenge</td>\n",
       "      <td>Raj is a rich, carefree, happy-go-lucky second...</td>\n",
       "      <td>[Comedy, Drama, Romance]</td>\n",
       "      <td>[family's daily life, family history, love-hat...</td>\n",
       "      <td>[Shah Rukh Khan, Kajol, Amrish Puri, Anupam Kh...</td>\n",
       "      <td>[{'adult': False, 'gender': 1, 'id': 8311, 'kn...</td>\n",
       "      <td>[Aditya Chopra]</td>\n",
       "    </tr>\n",
       "  </tbody>\n",
       "</table>\n",
       "</div>"
      ],
      "text/plain": [
       "      id                        title  \\\n",
       "0    238                The Godfather   \n",
       "1    278     The Shawshank Redemption   \n",
       "2    240        The Godfather Part II   \n",
       "3    424             Schindler's List   \n",
       "4  19404  Dilwale Dulhania Le Jayenge   \n",
       "\n",
       "                                            overview  \\\n",
       "0  Spanning the years 1945 to 1955, a chronicle o...   \n",
       "1  Framed in the 1940s for the double murder of h...   \n",
       "2  In the continuing saga of the Corleone crime f...   \n",
       "3  The true story of how businessman Oskar Schind...   \n",
       "4  Raj is a rich, carefree, happy-go-lucky second...   \n",
       "\n",
       "                     genres  \\\n",
       "0            [Drama, Crime]   \n",
       "1            [Drama, Crime]   \n",
       "2            [Drama, Crime]   \n",
       "3     [Drama, History, War]   \n",
       "4  [Comedy, Drama, Romance]   \n",
       "\n",
       "                                            keywords  \\\n",
       "0  [italy, loss of loved one, love at first sight...   \n",
       "1  [prison, corruption, police brutality, based o...   \n",
       "2  [italy, italian american, cuba, symbolism, gan...   \n",
       "3  [based on novel or book, factory, concentratio...   \n",
       "4  [family's daily life, family history, love-hat...   \n",
       "\n",
       "                                                cast  \\\n",
       "0  [Marlon Brando, Al Pacino, James Caan, Robert ...   \n",
       "1  [Tim Robbins, Morgan Freeman, Bob Gunton, Will...   \n",
       "2  [Al Pacino, Robert Duvall, Diane Keaton, Rober...   \n",
       "3  [Liam Neeson, Ben Kingsley, Ralph Fiennes, Car...   \n",
       "4  [Shah Rukh Khan, Kajol, Amrish Puri, Anupam Kh...   \n",
       "\n",
       "                                                crew                director  \n",
       "0  [{'adult': False, 'gender': 2, 'id': 154, 'kno...  [Francis Ford Coppola]  \n",
       "1  [{'adult': False, 'gender': 2, 'id': 153, 'kno...        [Frank Darabont]  \n",
       "2  [{'adult': False, 'gender': 2, 'id': 154, 'kno...  [Francis Ford Coppola]  \n",
       "3  [{'adult': False, 'gender': 2, 'id': 491, 'kno...      [Steven Spielberg]  \n",
       "4  [{'adult': False, 'gender': 1, 'id': 8311, 'kn...         [Aditya Chopra]  "
      ]
     },
     "execution_count": 81,
     "metadata": {},
     "output_type": "execute_result"
    }
   ],
   "source": [
    "movies_df.head()"
   ]
  },
  {
   "cell_type": "code",
   "execution_count": 83,
   "id": "e14b10e9",
   "metadata": {},
   "outputs": [],
   "source": [
    "# lets overview col also convert into a list bcz add all the list cols and create a new col called tags\n",
    "movies_df['overview'] = movies_df['overview'].apply(lambda x : x.split())"
   ]
  },
  {
   "cell_type": "markdown",
   "id": "ed5768d9",
   "metadata": {},
   "source": [
    "#### here we'll do one thing remove space bet same word like \"Sam Worthington\" to \"SamWorthington\" bcz of with space our model treated as two entity one is Sam and second one is Worthington .¶"
   ]
  },
  {
   "cell_type": "code",
   "execution_count": 84,
   "id": "4460b34f",
   "metadata": {},
   "outputs": [],
   "source": [
    "def remove_space(obj):\n",
    "    \n",
    "    a = []\n",
    "    for word in obj:\n",
    "        b = \"\".join(word.split())\n",
    "        a.append(b)\n",
    "    return a"
   ]
  },
  {
   "cell_type": "code",
   "execution_count": 87,
   "id": "3f3da0c3",
   "metadata": {},
   "outputs": [],
   "source": [
    "movies_df['genres'] = movies_df['genres'].apply(remove_space)\n",
    "movies_df['keywords'] = movies_df['keywords'].apply(remove_space)\n",
    "movies_df['cast'] = movies_df['cast'].apply(remove_space)\n",
    "movies_df['director'] = movies_df['director'].apply(remove_space)"
   ]
  },
  {
   "cell_type": "code",
   "execution_count": 88,
   "id": "601bf03e",
   "metadata": {},
   "outputs": [
    {
     "data": {
      "text/html": [
       "<div>\n",
       "<style scoped>\n",
       "    .dataframe tbody tr th:only-of-type {\n",
       "        vertical-align: middle;\n",
       "    }\n",
       "\n",
       "    .dataframe tbody tr th {\n",
       "        vertical-align: top;\n",
       "    }\n",
       "\n",
       "    .dataframe thead th {\n",
       "        text-align: right;\n",
       "    }\n",
       "</style>\n",
       "<table border=\"1\" class=\"dataframe\">\n",
       "  <thead>\n",
       "    <tr style=\"text-align: right;\">\n",
       "      <th></th>\n",
       "      <th>id</th>\n",
       "      <th>title</th>\n",
       "      <th>overview</th>\n",
       "      <th>genres</th>\n",
       "      <th>keywords</th>\n",
       "      <th>cast</th>\n",
       "      <th>crew</th>\n",
       "      <th>director</th>\n",
       "    </tr>\n",
       "  </thead>\n",
       "  <tbody>\n",
       "    <tr>\n",
       "      <th>0</th>\n",
       "      <td>238</td>\n",
       "      <td>The Godfather</td>\n",
       "      <td>[Spanning, the, years, 1945, to, 1955,, a, chr...</td>\n",
       "      <td>[Drama, Crime]</td>\n",
       "      <td>[italy, lossoflovedone, loveatfirstsight, base...</td>\n",
       "      <td>[MarlonBrando, AlPacino, JamesCaan, RobertDuva...</td>\n",
       "      <td>[{'adult': False, 'gender': 2, 'id': 154, 'kno...</td>\n",
       "      <td>[FrancisFordCoppola]</td>\n",
       "    </tr>\n",
       "    <tr>\n",
       "      <th>1</th>\n",
       "      <td>278</td>\n",
       "      <td>The Shawshank Redemption</td>\n",
       "      <td>[Framed, in, the, 1940s, for, the, double, mur...</td>\n",
       "      <td>[Drama, Crime]</td>\n",
       "      <td>[prison, corruption, policebrutality, basedonn...</td>\n",
       "      <td>[TimRobbins, MorganFreeman, BobGunton, William...</td>\n",
       "      <td>[{'adult': False, 'gender': 2, 'id': 153, 'kno...</td>\n",
       "      <td>[FrankDarabont]</td>\n",
       "    </tr>\n",
       "    <tr>\n",
       "      <th>2</th>\n",
       "      <td>240</td>\n",
       "      <td>The Godfather Part II</td>\n",
       "      <td>[In, the, continuing, saga, of, the, Corleone,...</td>\n",
       "      <td>[Drama, Crime]</td>\n",
       "      <td>[italy, italianamerican, cuba, symbolism, gang...</td>\n",
       "      <td>[AlPacino, RobertDuvall, DianeKeaton, RobertDe...</td>\n",
       "      <td>[{'adult': False, 'gender': 2, 'id': 154, 'kno...</td>\n",
       "      <td>[FrancisFordCoppola]</td>\n",
       "    </tr>\n",
       "    <tr>\n",
       "      <th>3</th>\n",
       "      <td>424</td>\n",
       "      <td>Schindler's List</td>\n",
       "      <td>[The, true, story, of, how, businessman, Oskar...</td>\n",
       "      <td>[Drama, History, War]</td>\n",
       "      <td>[basedonnovelorbook, factory, concentrationcam...</td>\n",
       "      <td>[LiamNeeson, BenKingsley, RalphFiennes, Caroli...</td>\n",
       "      <td>[{'adult': False, 'gender': 2, 'id': 491, 'kno...</td>\n",
       "      <td>[StevenSpielberg]</td>\n",
       "    </tr>\n",
       "    <tr>\n",
       "      <th>4</th>\n",
       "      <td>19404</td>\n",
       "      <td>Dilwale Dulhania Le Jayenge</td>\n",
       "      <td>[Raj, is, a, rich,, carefree,, happy-go-lucky,...</td>\n",
       "      <td>[Comedy, Drama, Romance]</td>\n",
       "      <td>[family'sdailylife, familyhistory, love-hatere...</td>\n",
       "      <td>[ShahRukhKhan, Kajol, AmrishPuri, AnupamKher, ...</td>\n",
       "      <td>[{'adult': False, 'gender': 1, 'id': 8311, 'kn...</td>\n",
       "      <td>[AdityaChopra]</td>\n",
       "    </tr>\n",
       "  </tbody>\n",
       "</table>\n",
       "</div>"
      ],
      "text/plain": [
       "      id                        title  \\\n",
       "0    238                The Godfather   \n",
       "1    278     The Shawshank Redemption   \n",
       "2    240        The Godfather Part II   \n",
       "3    424             Schindler's List   \n",
       "4  19404  Dilwale Dulhania Le Jayenge   \n",
       "\n",
       "                                            overview  \\\n",
       "0  [Spanning, the, years, 1945, to, 1955,, a, chr...   \n",
       "1  [Framed, in, the, 1940s, for, the, double, mur...   \n",
       "2  [In, the, continuing, saga, of, the, Corleone,...   \n",
       "3  [The, true, story, of, how, businessman, Oskar...   \n",
       "4  [Raj, is, a, rich,, carefree,, happy-go-lucky,...   \n",
       "\n",
       "                     genres  \\\n",
       "0            [Drama, Crime]   \n",
       "1            [Drama, Crime]   \n",
       "2            [Drama, Crime]   \n",
       "3     [Drama, History, War]   \n",
       "4  [Comedy, Drama, Romance]   \n",
       "\n",
       "                                            keywords  \\\n",
       "0  [italy, lossoflovedone, loveatfirstsight, base...   \n",
       "1  [prison, corruption, policebrutality, basedonn...   \n",
       "2  [italy, italianamerican, cuba, symbolism, gang...   \n",
       "3  [basedonnovelorbook, factory, concentrationcam...   \n",
       "4  [family'sdailylife, familyhistory, love-hatere...   \n",
       "\n",
       "                                                cast  \\\n",
       "0  [MarlonBrando, AlPacino, JamesCaan, RobertDuva...   \n",
       "1  [TimRobbins, MorganFreeman, BobGunton, William...   \n",
       "2  [AlPacino, RobertDuvall, DianeKeaton, RobertDe...   \n",
       "3  [LiamNeeson, BenKingsley, RalphFiennes, Caroli...   \n",
       "4  [ShahRukhKhan, Kajol, AmrishPuri, AnupamKher, ...   \n",
       "\n",
       "                                                crew              director  \n",
       "0  [{'adult': False, 'gender': 2, 'id': 154, 'kno...  [FrancisFordCoppola]  \n",
       "1  [{'adult': False, 'gender': 2, 'id': 153, 'kno...       [FrankDarabont]  \n",
       "2  [{'adult': False, 'gender': 2, 'id': 154, 'kno...  [FrancisFordCoppola]  \n",
       "3  [{'adult': False, 'gender': 2, 'id': 491, 'kno...     [StevenSpielberg]  \n",
       "4  [{'adult': False, 'gender': 1, 'id': 8311, 'kn...        [AdityaChopra]  "
      ]
     },
     "execution_count": 88,
     "metadata": {},
     "output_type": "execute_result"
    }
   ],
   "source": [
    "movies_df.head()"
   ]
  },
  {
   "cell_type": "markdown",
   "id": "a2c396c3",
   "metadata": {},
   "source": [
    "### now we'll concate genres to crew col and create a new col called tags and then covert tags col list to str"
   ]
  },
  {
   "cell_type": "code",
   "execution_count": 89,
   "id": "bc4ae016",
   "metadata": {},
   "outputs": [],
   "source": [
    "movies_df['tags'] = movies_df['genres'] + movies_df['overview'] + movies_df['keywords'] + movies_df['cast'] + movies_df['director']"
   ]
  },
  {
   "cell_type": "code",
   "execution_count": 91,
   "id": "c2dd2c17",
   "metadata": {},
   "outputs": [],
   "source": [
    "movies_df['tags'] = movies_df['tags'].apply(lambda x : \" \".join(x))"
   ]
  },
  {
   "cell_type": "code",
   "execution_count": 95,
   "id": "3a8abd4a",
   "metadata": {},
   "outputs": [],
   "source": [
    "def text_preprocessing(text):\n",
    "    \n",
    "    # lower case\n",
    "    text = text.lower()\n",
    "    \n",
    "    # tokenization\n",
    "    text = word_tokenize(text)\n",
    "    \n",
    "    # remove stopwords and punctuation\n",
    "    a = []\n",
    "    for word in text:\n",
    "        if word not in stopwords.words('english') and word not in string.punctuation:\n",
    "            a.append(word)\n",
    "    text = a[:]\n",
    "    a.clear()\n",
    "    \n",
    "    # Stemming\n",
    "    ps = PorterStemmer() \n",
    "    for word in text:\n",
    "        stem = ps.stem(word)\n",
    "        a.append(stem)\n",
    "    text = a[:]\n",
    "    a.clear()\n",
    "    \n",
    "    # removing special char\n",
    "    for i in text:            \n",
    "        if i.isalnum():\n",
    "            a.append(i)\n",
    "    text = a[:]\n",
    "    a.clear()\n",
    "    \n",
    "    return \" \".join(text)"
   ]
  },
  {
   "cell_type": "code",
   "execution_count": 97,
   "id": "a6497b16",
   "metadata": {},
   "outputs": [],
   "source": [
    "movies_df['tags'] = movies_df['tags'].apply(text_preprocessing)"
   ]
  },
  {
   "cell_type": "code",
   "execution_count": 99,
   "id": "a8b061af",
   "metadata": {},
   "outputs": [],
   "source": [
    "movies_final = movies_df[['id' , 'title' , 'tags']]"
   ]
  },
  {
   "cell_type": "code",
   "execution_count": 100,
   "id": "f73530aa",
   "metadata": {},
   "outputs": [
    {
     "data": {
      "text/html": [
       "<div>\n",
       "<style scoped>\n",
       "    .dataframe tbody tr th:only-of-type {\n",
       "        vertical-align: middle;\n",
       "    }\n",
       "\n",
       "    .dataframe tbody tr th {\n",
       "        vertical-align: top;\n",
       "    }\n",
       "\n",
       "    .dataframe thead th {\n",
       "        text-align: right;\n",
       "    }\n",
       "</style>\n",
       "<table border=\"1\" class=\"dataframe\">\n",
       "  <thead>\n",
       "    <tr style=\"text-align: right;\">\n",
       "      <th></th>\n",
       "      <th>id</th>\n",
       "      <th>title</th>\n",
       "      <th>tags</th>\n",
       "    </tr>\n",
       "  </thead>\n",
       "  <tbody>\n",
       "    <tr>\n",
       "      <th>0</th>\n",
       "      <td>238</td>\n",
       "      <td>The Godfather</td>\n",
       "      <td>drama crime span year 1945 1955 chronicl ficti...</td>\n",
       "    </tr>\n",
       "    <tr>\n",
       "      <th>1</th>\n",
       "      <td>278</td>\n",
       "      <td>The Shawshank Redemption</td>\n",
       "      <td>drama crime frame 1940 doubl murder wife lover...</td>\n",
       "    </tr>\n",
       "  </tbody>\n",
       "</table>\n",
       "</div>"
      ],
      "text/plain": [
       "    id                     title  \\\n",
       "0  238             The Godfather   \n",
       "1  278  The Shawshank Redemption   \n",
       "\n",
       "                                                tags  \n",
       "0  drama crime span year 1945 1955 chronicl ficti...  \n",
       "1  drama crime frame 1940 doubl murder wife lover...  "
      ]
     },
     "execution_count": 100,
     "metadata": {},
     "output_type": "execute_result"
    }
   ],
   "source": [
    "movies_final.head(2)"
   ]
  },
  {
   "cell_type": "markdown",
   "id": "f07e1d5b",
   "metadata": {},
   "source": [
    "#### Now we will find cosine similarity bet all the word"
   ]
  },
  {
   "cell_type": "markdown",
   "id": "d301d6c8",
   "metadata": {},
   "source": [
    "## Cosine Similarity Explained :\n",
    "- A cosine similarity is a value that is bound by a constrained range of 0 and 1. The closer the value is to 0 means that the two vectors are orthogonal or perpendicular to each other. When the value is closer to one, it means the angle is smaller and the images are more similar. "
   ]
  },
  {
   "attachments": {
    "cosine.png": {
     "image/png": "[encoded data removed]"
    }
   },
   "cell_type": "markdown",
   "id": "8741ee45",
   "metadata": {},
   "source": [
    "### Formula:\n",
    "![cosine.png](attachment:cosine.png)"
   ]
  },
  {
   "attachments": {
    "ang1.png": {
     "image/png": "[encoded data removed]"
    }
   },
   "cell_type": "markdown",
   "id": "b1f1491d",
   "metadata": {},
   "source": [
    "![ang1.png](attachment:ang1.png)"
   ]
  },
  {
   "attachments": {
    "ang2.png": {
     "image/png": "[encoded data removed]"
    }
   },
   "cell_type": "markdown",
   "id": "f69ca3a3",
   "metadata": {},
   "source": [
    "![ang2.png](attachment:ang2.png)"
   ]
  },
  {
   "cell_type": "markdown",
   "id": "ecbd4d59",
   "metadata": {},
   "source": [
    "## convert into vector"
   ]
  },
  {
   "cell_type": "markdown",
   "id": "9eb12b0d",
   "metadata": {},
   "source": [
    "### 1.BOW"
   ]
  },
  {
   "cell_type": "code",
   "execution_count": 101,
   "id": "4292c79e",
   "metadata": {},
   "outputs": [],
   "source": [
    "cv = CountVectorizer()\n",
    "tags_vector = cv.fit_transform(movies_final['tags']).toarray()"
   ]
  },
  {
   "cell_type": "code",
   "execution_count": 102,
   "id": "249b256c",
   "metadata": {},
   "outputs": [],
   "source": [
    "similarity1 = cosine_similarity(tags_vector)"
   ]
  },
  {
   "cell_type": "code",
   "execution_count": 103,
   "id": "a306f81a",
   "metadata": {},
   "outputs": [
    {
     "data": {
      "text/plain": [
       "(9998,)"
      ]
     },
     "execution_count": 103,
     "metadata": {},
     "output_type": "execute_result"
    }
   ],
   "source": [
    "similarity1[0].shape # this is similarity score bet 1 movie to others 9997 movies."
   ]
  },
  {
   "cell_type": "markdown",
   "id": "e6b5fd72",
   "metadata": {},
   "source": [
    "### now we'll create a recommended function and extract top 6 similar movies"
   ]
  },
  {
   "cell_type": "code",
   "execution_count": 137,
   "id": "8fcaa7d6",
   "metadata": {},
   "outputs": [],
   "source": [
    "def recommended_movies(movie_name):\n",
    "    # to get movie index \n",
    "    movie_index = movies_df[movies_df['title']==movie_name].index[0]\n",
    "    \n",
    "    # find reccomended movies index and score\n",
    "    similar_movies = sorted(list(enumerate(similarity1[movie_index])) , reverse=True , key=lambda x : x[1])[1:7]\n",
    "    \n",
    "    # print movies name using index\n",
    "    recommended_movies = []\n",
    "    for i in similar_movies:\n",
    "        recc_indx = i[0]\n",
    "        recommended_movies.append(movies_final['title'].iloc[recc_indx])\n",
    "    \n",
    "    return recommended_movies"
   ]
  },
  {
   "cell_type": "code",
   "execution_count": 138,
   "id": "6f00b9e6",
   "metadata": {},
   "outputs": [
    {
     "data": {
      "text/plain": [
       "['Attraction',\n",
       " 'Escape from Planet Earth',\n",
       " 'Rim of the World',\n",
       " 'Predators',\n",
       " 'The 5th Wave',\n",
       " 'Alien']"
      ]
     },
     "execution_count": 138,
     "metadata": {},
     "output_type": "execute_result"
    }
   ],
   "source": [
    "recommended_movies('Independence Day')"
   ]
  },
  {
   "cell_type": "code",
   "execution_count": 141,
   "id": "2d15c7cf",
   "metadata": {},
   "outputs": [
    {
     "data": {
      "text/plain": [
       "['Aliens in the Attic',\n",
       " 'Avatar: The Way of Water',\n",
       " 'Aliens',\n",
       " 'Titan A.E.',\n",
       " 'Rim of the World',\n",
       " 'Predators']"
      ]
     },
     "execution_count": 141,
     "metadata": {},
     "output_type": "execute_result"
    }
   ],
   "source": [
    "recommended_movies('Avatar')"
   ]
  },
  {
   "cell_type": "code",
   "execution_count": 145,
   "id": "84632086",
   "metadata": {},
   "outputs": [
    {
     "data": {
      "text/plain": [
       "['Avengers: Age of Ultron',\n",
       " 'Avengers: Endgame',\n",
       " 'Captain America: Civil War',\n",
       " 'Avengers: Infinity War',\n",
       " 'Thor: Ragnarok',\n",
       " 'Captain America: The First Avenger']"
      ]
     },
     "execution_count": 145,
     "metadata": {},
     "output_type": "execute_result"
    }
   ],
   "source": [
    "recommended_movies('The Avengers')"
   ]
  },
  {
   "cell_type": "markdown",
   "id": "804702c8",
   "metadata": {},
   "source": [
    "### now using max_feature = 5000"
   ]
  },
  {
   "cell_type": "code",
   "execution_count": 140,
   "id": "b300897a",
   "metadata": {},
   "outputs": [],
   "source": [
    "cv = CountVectorizer(max_features=5000)\n",
    "tags_vector = cv.fit_transform(movies_final['tags']).toarray()\n",
    "similarity2 = cosine_similarity(tags_vector)"
   ]
  },
  {
   "cell_type": "code",
   "execution_count": 146,
   "id": "9db0b160",
   "metadata": {},
   "outputs": [],
   "source": [
    "def recommended_movies(movie_name):\n",
    "    # to get movie index \n",
    "    movie_index = movies_df[movies_df['title']==movie_name].index[0]\n",
    "    \n",
    "    # find reccomended movies index and score\n",
    "    similar_movies = sorted(list(enumerate(similarity2[movie_index])) , reverse=True , key=lambda x : x[1])[1:7]\n",
    "    \n",
    "    # print movies name using index\n",
    "    recommended_movies = []\n",
    "    for i in similar_movies:\n",
    "        recc_indx = i[0]\n",
    "        recommended_movies.append(movies_final['title'].iloc[recc_indx])\n",
    "    \n",
    "    return recommended_movies"
   ]
  },
  {
   "cell_type": "code",
   "execution_count": 147,
   "id": "cd4e31bd",
   "metadata": {},
   "outputs": [
    {
     "data": {
      "text/plain": [
       "['Attraction',\n",
       " 'G.O.R.A.',\n",
       " 'Rim of the World',\n",
       " 'Escape from Planet Earth',\n",
       " 'Ben 10: Race Against Time',\n",
       " 'The 5th Wave']"
      ]
     },
     "execution_count": 147,
     "metadata": {},
     "output_type": "execute_result"
    }
   ],
   "source": [
    "recommended_movies('Independence Day')"
   ]
  },
  {
   "cell_type": "code",
   "execution_count": 148,
   "id": "1c43f386",
   "metadata": {},
   "outputs": [
    {
     "data": {
      "text/plain": [
       "['Aliens in the Attic',\n",
       " 'Valerian and the City of a Thousand Planets',\n",
       " 'Rim of the World',\n",
       " 'Final Fantasy: The Spirits Within',\n",
       " 'Aliens',\n",
       " 'Attraction']"
      ]
     },
     "execution_count": 148,
     "metadata": {},
     "output_type": "execute_result"
    }
   ],
   "source": [
    "recommended_movies('Avatar')"
   ]
  },
  {
   "cell_type": "code",
   "execution_count": 149,
   "id": "9e769bbb",
   "metadata": {
    "scrolled": false
   },
   "outputs": [
    {
     "data": {
      "text/plain": [
       "['Avengers: Age of Ultron',\n",
       " 'Avengers: Endgame',\n",
       " 'Thor: Ragnarok',\n",
       " 'Avengers: Infinity War',\n",
       " 'Captain America: Civil War',\n",
       " 'Marvel One-Shot: Item 47']"
      ]
     },
     "execution_count": 149,
     "metadata": {},
     "output_type": "execute_result"
    }
   ],
   "source": [
    "recommended_movies('The Avengers')"
   ]
  },
  {
   "cell_type": "markdown",
   "id": "7b1f056f",
   "metadata": {},
   "source": [
    "### now using max_feature = 10000"
   ]
  },
  {
   "cell_type": "code",
   "execution_count": 150,
   "id": "1380e598",
   "metadata": {},
   "outputs": [],
   "source": [
    "cv = CountVectorizer(max_features=10000)\n",
    "tags_vector = cv.fit_transform(movies_final['tags']).toarray()\n",
    "similarity3 = cosine_similarity(tags_vector)"
   ]
  },
  {
   "cell_type": "code",
   "execution_count": 151,
   "id": "332e0038",
   "metadata": {},
   "outputs": [],
   "source": [
    "cv = CountVectorizer(max_features=10000)\n",
    "tags_vector = cv.fit_transform(movies_final['tags']).toarray()\n",
    "similarity3 = cosine_similarity(tags_vector)"
   ]
  },
  {
   "cell_type": "code",
   "execution_count": 152,
   "id": "c485d224",
   "metadata": {},
   "outputs": [
    {
     "data": {
      "text/plain": [
       "['Attraction',\n",
       " 'Rim of the World',\n",
       " 'G.O.R.A.',\n",
       " 'Escape from Planet Earth',\n",
       " 'Ben 10: Race Against Time',\n",
       " 'Stargate: Continuum']"
      ]
     },
     "execution_count": 152,
     "metadata": {},
     "output_type": "execute_result"
    }
   ],
   "source": [
    "recommended_movies('Independence Day')"
   ]
  },
  {
   "cell_type": "code",
   "execution_count": 153,
   "id": "53536422",
   "metadata": {},
   "outputs": [
    {
     "data": {
      "text/plain": [
       "['Aliens in the Attic',\n",
       " 'Avatar: The Way of Water',\n",
       " 'Aliens',\n",
       " 'Rim of the World',\n",
       " 'Attraction',\n",
       " 'Titan A.E.']"
      ]
     },
     "execution_count": 153,
     "metadata": {},
     "output_type": "execute_result"
    }
   ],
   "source": [
    "recommended_movies('Avatar')"
   ]
  },
  {
   "cell_type": "code",
   "execution_count": 154,
   "id": "ae2b6461",
   "metadata": {
    "scrolled": false
   },
   "outputs": [
    {
     "data": {
      "text/plain": [
       "['Avengers: Age of Ultron',\n",
       " 'Avengers: Endgame',\n",
       " 'Thor: Ragnarok',\n",
       " 'Captain America: Civil War',\n",
       " 'Avengers: Infinity War',\n",
       " 'Captain America: The First Avenger']"
      ]
     },
     "execution_count": 154,
     "metadata": {},
     "output_type": "execute_result"
    }
   ],
   "source": [
    "recommended_movies('The Avengers')"
   ]
  },
  {
   "cell_type": "markdown",
   "id": "812c4af0",
   "metadata": {},
   "source": [
    "### now using max_feature = 15000"
   ]
  },
  {
   "cell_type": "code",
   "execution_count": 160,
   "id": "1baa4cb8",
   "metadata": {},
   "outputs": [],
   "source": [
    "cv = CountVectorizer(max_features=15000)\n",
    "tags_vector = cv.fit_transform(movies_final['tags']).toarray()\n",
    "similarity3 = cosine_similarity(tags_vector)"
   ]
  },
  {
   "cell_type": "code",
   "execution_count": 161,
   "id": "ec2065c9",
   "metadata": {},
   "outputs": [],
   "source": [
    "def recommended_movies(movie_name):\n",
    "    # to get movie index \n",
    "    movie_index = movies_df[movies_df['title']==movie_name].index[0]\n",
    "    \n",
    "    # find reccomended movies index and score\n",
    "    similar_movies = sorted(list(enumerate(similarity3[movie_index])) , reverse=True , key=lambda x : x[1])[1:7]\n",
    "    \n",
    "    # print movies name using index\n",
    "    recommended_movies = []\n",
    "    for i in similar_movies:\n",
    "        recc_indx = i[0]\n",
    "        recommended_movies.append(movies_final['title'].iloc[recc_indx])\n",
    "    \n",
    "    return recommended_movies"
   ]
  },
  {
   "cell_type": "code",
   "execution_count": 162,
   "id": "66809709",
   "metadata": {},
   "outputs": [
    {
     "data": {
      "text/plain": [
       "['Attraction',\n",
       " 'Rim of the World',\n",
       " 'Escape from Planet Earth',\n",
       " 'G.O.R.A.',\n",
       " 'Stargate: Continuum',\n",
       " 'Predators']"
      ]
     },
     "execution_count": 162,
     "metadata": {},
     "output_type": "execute_result"
    }
   ],
   "source": [
    "recommended_movies('Independence Day')"
   ]
  },
  {
   "cell_type": "code",
   "execution_count": 163,
   "id": "a9eb4203",
   "metadata": {},
   "outputs": [
    {
     "data": {
      "text/plain": [
       "['Aliens in the Attic',\n",
       " 'Avatar: The Way of Water',\n",
       " 'Aliens',\n",
       " 'Rim of the World',\n",
       " 'Titan A.E.',\n",
       " 'Valerian and the City of a Thousand Planets']"
      ]
     },
     "execution_count": 163,
     "metadata": {},
     "output_type": "execute_result"
    }
   ],
   "source": [
    "recommended_movies('Avatar')"
   ]
  },
  {
   "cell_type": "code",
   "execution_count": 164,
   "id": "989738d3",
   "metadata": {},
   "outputs": [
    {
     "data": {
      "text/plain": [
       "['Avengers: Age of Ultron',\n",
       " 'Avengers: Endgame',\n",
       " 'Thor: Ragnarok',\n",
       " 'Captain America: Civil War',\n",
       " 'Avengers: Infinity War',\n",
       " 'Captain America: The First Avenger']"
      ]
     },
     "execution_count": 164,
     "metadata": {},
     "output_type": "execute_result"
    }
   ],
   "source": [
    "recommended_movies('The Avengers')"
   ]
  },
  {
   "cell_type": "markdown",
   "id": "b2c0f287",
   "metadata": {},
   "source": [
    "### 2.TFIDF"
   ]
  },
  {
   "cell_type": "code",
   "execution_count": 165,
   "id": "d18e7de2",
   "metadata": {},
   "outputs": [],
   "source": [
    "tfidf = TfidfVectorizer()\n",
    "tags_vector = tfidf.fit_transform(movies_final['tags']).toarray()\n",
    "similarity4 = cosine_similarity(tags_vector)"
   ]
  },
  {
   "cell_type": "code",
   "execution_count": 166,
   "id": "e2f4d5b1",
   "metadata": {},
   "outputs": [],
   "source": [
    "def recommended_movies(movie_name):\n",
    "    # to get movie index \n",
    "    movie_index = movies_df[movies_df['title']==movie_name].index[0]\n",
    "    \n",
    "    # find reccomended movies index and score\n",
    "    similar_movies = sorted(list(enumerate(similarity4[movie_index])) , reverse=True , key=lambda x : x[1])[1:7]\n",
    "    \n",
    "    # print movies name using index\n",
    "    recommended_movies = []\n",
    "    for i in similar_movies:\n",
    "        recc_indx = i[0]\n",
    "        recommended_movies.append(movies_final['title'].iloc[recc_indx])\n",
    "    \n",
    "    return recommended_movies"
   ]
  },
  {
   "cell_type": "code",
   "execution_count": 167,
   "id": "15c76e75",
   "metadata": {},
   "outputs": [
    {
     "data": {
      "text/plain": [
       "['Attraction',\n",
       " 'Alien',\n",
       " 'Escape from Planet Earth',\n",
       " 'Predators',\n",
       " 'The Gendarme and the Creatures from Outer Space',\n",
       " 'Close Encounters of the Third Kind']"
      ]
     },
     "execution_count": 167,
     "metadata": {},
     "output_type": "execute_result"
    }
   ],
   "source": [
    "recommended_movies('Independence Day')"
   ]
  },
  {
   "cell_type": "code",
   "execution_count": 168,
   "id": "5e4b1916",
   "metadata": {},
   "outputs": [
    {
     "data": {
      "text/plain": [
       "['Avatar: The Way of Water',\n",
       " 'Aliens',\n",
       " 'Predators',\n",
       " 'Aliens in the Attic',\n",
       " 'Alien Nation',\n",
       " 'Titan A.E.']"
      ]
     },
     "execution_count": 168,
     "metadata": {},
     "output_type": "execute_result"
    }
   ],
   "source": [
    "recommended_movies('Avatar')"
   ]
  },
  {
   "cell_type": "code",
   "execution_count": 169,
   "id": "fd9b445a",
   "metadata": {},
   "outputs": [
    {
     "data": {
      "text/plain": [
       "['Avengers: Age of Ultron',\n",
       " 'Avengers: Endgame',\n",
       " 'Avengers: Infinity War',\n",
       " 'Team Thor',\n",
       " 'Captain America: Civil War',\n",
       " 'Spider-Man: Far From Home']"
      ]
     },
     "execution_count": 169,
     "metadata": {},
     "output_type": "execute_result"
    }
   ],
   "source": [
    "recommended_movies('The Avengers')"
   ]
  },
  {
   "cell_type": "code",
   "execution_count": 170,
   "id": "4ded7d82",
   "metadata": {},
   "outputs": [],
   "source": [
    "tfidf = TfidfVectorizer(max_features=10000)\n",
    "tags_vector = tfidf.fit_transform(movies_final['tags']).toarray()\n",
    "similarity5 = cosine_similarity(tags_vector)"
   ]
  },
  {
   "cell_type": "code",
   "execution_count": 171,
   "id": "aa3cfd0c",
   "metadata": {},
   "outputs": [],
   "source": [
    "def recommended_movies(movie_name):\n",
    "    # to get movie index \n",
    "    movie_index = movies_df[movies_df['title']==movie_name].index[0]\n",
    "    \n",
    "    # find reccomended movies index and score\n",
    "    similar_movies = sorted(list(enumerate(similarity5[movie_index])) , reverse=True , key=lambda x : x[1])[1:7]\n",
    "    \n",
    "    # print movies name using index\n",
    "    recommended_movies = []\n",
    "    for i in similar_movies:\n",
    "        recc_indx = i[0]\n",
    "        recommended_movies.append(movies_final['title'].iloc[recc_indx])\n",
    "    \n",
    "    return recommended_movies"
   ]
  },
  {
   "cell_type": "code",
   "execution_count": 172,
   "id": "1851108d",
   "metadata": {},
   "outputs": [
    {
     "data": {
      "text/plain": [
       "['Attraction',\n",
       " 'G.O.R.A.',\n",
       " 'Stargate: Continuum',\n",
       " 'Ben 10: Race Against Time',\n",
       " 'Escape from Planet Earth',\n",
       " 'Rim of the World']"
      ]
     },
     "execution_count": 172,
     "metadata": {},
     "output_type": "execute_result"
    }
   ],
   "source": [
    "recommended_movies('Independence Day')"
   ]
  },
  {
   "cell_type": "code",
   "execution_count": 173,
   "id": "3e630b9e",
   "metadata": {},
   "outputs": [
    {
     "data": {
      "text/plain": [
       "['Avatar: The Way of Water',\n",
       " 'Aliens',\n",
       " 'Aliens in the Attic',\n",
       " 'Alien Nation',\n",
       " 'Rakka',\n",
       " 'Predators']"
      ]
     },
     "execution_count": 173,
     "metadata": {},
     "output_type": "execute_result"
    }
   ],
   "source": [
    "recommended_movies('Avatar')"
   ]
  },
  {
   "cell_type": "code",
   "execution_count": 174,
   "id": "52e52b53",
   "metadata": {},
   "outputs": [
    {
     "data": {
      "text/plain": [
       "['Avengers: Age of Ultron',\n",
       " 'Avengers: Endgame',\n",
       " 'Team Thor',\n",
       " 'Avengers: Infinity War',\n",
       " 'Marvel One-Shot: The Consultant',\n",
       " 'Captain America: Civil War']"
      ]
     },
     "execution_count": 174,
     "metadata": {},
     "output_type": "execute_result"
    }
   ],
   "source": [
    "recommended_movies('The Avengers')"
   ]
  },
  {
   "cell_type": "code",
   "execution_count": 175,
   "id": "1dfb60b2",
   "metadata": {},
   "outputs": [],
   "source": [
    "import pickle\n",
    "pickle.dump(similarity1 , open('similarity.pkl','wb'))"
   ]
  },
  {
   "cell_type": "code",
   "execution_count": 176,
   "id": "45977a36",
   "metadata": {},
   "outputs": [],
   "source": [
    "pickle.dump(movies_final , open('movies.pkl' , 'wb'))"
   ]
  },
  {
   "cell_type": "markdown",
   "id": "5f757fb3",
   "metadata": {},
   "source": [
    "***Now extract Popular movies based on popularity***"
   ]
  },
  {
   "cell_type": "code",
   "execution_count": 3,
   "id": "4fbb1b3a",
   "metadata": {},
   "outputs": [
    {
     "data": {
      "text/html": [
       "<div>\n",
       "<style scoped>\n",
       "    .dataframe tbody tr th:only-of-type {\n",
       "        vertical-align: middle;\n",
       "    }\n",
       "\n",
       "    .dataframe tbody tr th {\n",
       "        vertical-align: top;\n",
       "    }\n",
       "\n",
       "    .dataframe thead th {\n",
       "        text-align: right;\n",
       "    }\n",
       "</style>\n",
       "<table border=\"1\" class=\"dataframe\">\n",
       "  <thead>\n",
       "    <tr style=\"text-align: right;\">\n",
       "      <th></th>\n",
       "      <th>Unnamed: 0</th>\n",
       "      <th>id</th>\n",
       "      <th>title</th>\n",
       "      <th>overview</th>\n",
       "      <th>poster_path</th>\n",
       "      <th>popularity</th>\n",
       "      <th>release_date</th>\n",
       "      <th>vote_average</th>\n",
       "      <th>original_language</th>\n",
       "      <th>vote_average.1</th>\n",
       "      <th>vote_count</th>\n",
       "      <th>release_date.1</th>\n",
       "    </tr>\n",
       "  </thead>\n",
       "  <tbody>\n",
       "    <tr>\n",
       "      <th>674</th>\n",
       "      <td>674</td>\n",
       "      <td>976573</td>\n",
       "      <td>Elemental</td>\n",
       "      <td>In a city where fire, water, land and air resi...</td>\n",
       "      <td>/8riWcADI1ekEiBguVB9vkilhiQm.jpg</td>\n",
       "      <td>4411.076</td>\n",
       "      <td>2023-06-14</td>\n",
       "      <td>7.8</td>\n",
       "      <td>en</td>\n",
       "      <td>7.8</td>\n",
       "      <td>1500</td>\n",
       "      <td>2023-06-14</td>\n",
       "    </tr>\n",
       "    <tr>\n",
       "      <th>3891</th>\n",
       "      <td>3891</td>\n",
       "      <td>615656</td>\n",
       "      <td>Meg 2: The Trench</td>\n",
       "      <td>An exploratory dive into the deepest depths of...</td>\n",
       "      <td>/FQHtuf2zc8suMFE28RyvFt3FJN.jpg</td>\n",
       "      <td>3247.593</td>\n",
       "      <td>2023-08-02</td>\n",
       "      <td>6.9</td>\n",
       "      <td>en</td>\n",
       "      <td>6.9</td>\n",
       "      <td>828</td>\n",
       "      <td>2023-08-02</td>\n",
       "    </tr>\n",
       "    <tr>\n",
       "      <th>3826</th>\n",
       "      <td>3826</td>\n",
       "      <td>724209</td>\n",
       "      <td>Heart of Stone</td>\n",
       "      <td>An intelligence operative for a shadowy global...</td>\n",
       "      <td>/vB8o2p4ETnrfiWEgVxHmHWP9yRl.jpg</td>\n",
       "      <td>2899.650</td>\n",
       "      <td>2023-08-09</td>\n",
       "      <td>6.9</td>\n",
       "      <td>en</td>\n",
       "      <td>6.9</td>\n",
       "      <td>824</td>\n",
       "      <td>2023-08-09</td>\n",
       "    </tr>\n",
       "    <tr>\n",
       "      <th>1460</th>\n",
       "      <td>1460</td>\n",
       "      <td>667538</td>\n",
       "      <td>Transformers: Rise of the Beasts</td>\n",
       "      <td>When a new threat capable of destroying the en...</td>\n",
       "      <td>/gPbM0MK8CP8A174rmUwGsADNYKD.jpg</td>\n",
       "      <td>2030.046</td>\n",
       "      <td>2023-06-06</td>\n",
       "      <td>7.5</td>\n",
       "      <td>en</td>\n",
       "      <td>7.5</td>\n",
       "      <td>2961</td>\n",
       "      <td>2023-06-06</td>\n",
       "    </tr>\n",
       "    <tr>\n",
       "      <th>21</th>\n",
       "      <td>21</td>\n",
       "      <td>569094</td>\n",
       "      <td>Spider-Man: Across the Spider-Verse</td>\n",
       "      <td>After reuniting with Gwen Stacy, Brooklyn’s fu...</td>\n",
       "      <td>/8Vt6mWEReuy4Of61Lnj5Xj704m8.jpg</td>\n",
       "      <td>1872.207</td>\n",
       "      <td>2023-05-31</td>\n",
       "      <td>8.4</td>\n",
       "      <td>en</td>\n",
       "      <td>8.4</td>\n",
       "      <td>3811</td>\n",
       "      <td>2023-05-31</td>\n",
       "    </tr>\n",
       "    <tr>\n",
       "      <th>1778</th>\n",
       "      <td>1778</td>\n",
       "      <td>346698</td>\n",
       "      <td>Barbie</td>\n",
       "      <td>Barbie and Ken are having the time of their li...</td>\n",
       "      <td>/iuFNMS8U5cb6xfzi51Dbkovj7vM.jpg</td>\n",
       "      <td>1869.493</td>\n",
       "      <td>2023-07-19</td>\n",
       "      <td>7.4</td>\n",
       "      <td>en</td>\n",
       "      <td>7.4</td>\n",
       "      <td>3433</td>\n",
       "      <td>2023-07-19</td>\n",
       "    </tr>\n",
       "    <tr>\n",
       "      <th>3856</th>\n",
       "      <td>3856</td>\n",
       "      <td>298618</td>\n",
       "      <td>The Flash</td>\n",
       "      <td>When his attempt to save his family inadverten...</td>\n",
       "      <td>/rktDFPbfHfUbArZ6OOOKsXcv0Bm.jpg</td>\n",
       "      <td>1830.716</td>\n",
       "      <td>2023-06-13</td>\n",
       "      <td>7.0</td>\n",
       "      <td>en</td>\n",
       "      <td>7.0</td>\n",
       "      <td>2553</td>\n",
       "      <td>2023-06-13</td>\n",
       "    </tr>\n",
       "    <tr>\n",
       "      <th>4953</th>\n",
       "      <td>4953</td>\n",
       "      <td>709631</td>\n",
       "      <td>Cobweb</td>\n",
       "      <td>Eight year old Peter is plagued by a mysteriou...</td>\n",
       "      <td>/cGXFosYUHYjjdKrOmA0bbjvzhKz.jpg</td>\n",
       "      <td>1646.909</td>\n",
       "      <td>2023-07-19</td>\n",
       "      <td>6.8</td>\n",
       "      <td>en</td>\n",
       "      <td>6.8</td>\n",
       "      <td>230</td>\n",
       "      <td>2023-07-19</td>\n",
       "    </tr>\n",
       "    <tr>\n",
       "      <th>2219</th>\n",
       "      <td>2219</td>\n",
       "      <td>385687</td>\n",
       "      <td>Fast X</td>\n",
       "      <td>Over many missions and against impossible odds...</td>\n",
       "      <td>/fiVW06jE7z9YnO4trhaMEdclSiC.jpg</td>\n",
       "      <td>1479.399</td>\n",
       "      <td>2023-05-17</td>\n",
       "      <td>7.3</td>\n",
       "      <td>en</td>\n",
       "      <td>7.3</td>\n",
       "      <td>3498</td>\n",
       "      <td>2023-05-17</td>\n",
       "    </tr>\n",
       "    <tr>\n",
       "      <th>2953</th>\n",
       "      <td>2953</td>\n",
       "      <td>884605</td>\n",
       "      <td>No Hard Feelings</td>\n",
       "      <td>On the brink of losing her childhood home, Mad...</td>\n",
       "      <td>/gD72DhJ7NbfxvtxGiAzLaa0xaoj.jpg</td>\n",
       "      <td>1362.424</td>\n",
       "      <td>2023-06-15</td>\n",
       "      <td>7.1</td>\n",
       "      <td>en</td>\n",
       "      <td>7.1</td>\n",
       "      <td>941</td>\n",
       "      <td>2023-06-15</td>\n",
       "    </tr>\n",
       "    <tr>\n",
       "      <th>4145</th>\n",
       "      <td>4145</td>\n",
       "      <td>614479</td>\n",
       "      <td>Insidious: The Red Door</td>\n",
       "      <td>To put their demons to rest once and for all, ...</td>\n",
       "      <td>/d07phJqCx6z5wILDYqkyraorDPi.jpg</td>\n",
       "      <td>1268.898</td>\n",
       "      <td>2023-07-05</td>\n",
       "      <td>6.9</td>\n",
       "      <td>en</td>\n",
       "      <td>6.9</td>\n",
       "      <td>981</td>\n",
       "      <td>2023-07-05</td>\n",
       "    </tr>\n",
       "    <tr>\n",
       "      <th>276</th>\n",
       "      <td>276</td>\n",
       "      <td>447365</td>\n",
       "      <td>Guardians of the Galaxy Vol. 3</td>\n",
       "      <td>Peter Quill, still reeling from the loss of Ga...</td>\n",
       "      <td>/r2J02Z2OpNTctfOSN1Ydgii51I3.jpg</td>\n",
       "      <td>1015.806</td>\n",
       "      <td>2023-05-03</td>\n",
       "      <td>8.0</td>\n",
       "      <td>en</td>\n",
       "      <td>8.0</td>\n",
       "      <td>4532</td>\n",
       "      <td>2023-05-03</td>\n",
       "    </tr>\n",
       "    <tr>\n",
       "      <th>3215</th>\n",
       "      <td>3215</td>\n",
       "      <td>457332</td>\n",
       "      <td>Hidden Strike</td>\n",
       "      <td>Two elite soldiers must escort civilians throu...</td>\n",
       "      <td>/zsbolOkw8RhTU4DKOrpf4M7KCmi.jpg</td>\n",
       "      <td>987.738</td>\n",
       "      <td>2023-07-06</td>\n",
       "      <td>7.1</td>\n",
       "      <td>en</td>\n",
       "      <td>7.1</td>\n",
       "      <td>643</td>\n",
       "      <td>2023-07-06</td>\n",
       "    </tr>\n",
       "    <tr>\n",
       "      <th>3289</th>\n",
       "      <td>3289</td>\n",
       "      <td>1008042</td>\n",
       "      <td>Talk to Me</td>\n",
       "      <td>When a group of friends discover how to conjur...</td>\n",
       "      <td>/kdPMUMJzyYAc4roD52qavX0nLIC.jpg</td>\n",
       "      <td>964.003</td>\n",
       "      <td>2023-07-26</td>\n",
       "      <td>7.1</td>\n",
       "      <td>en</td>\n",
       "      <td>7.1</td>\n",
       "      <td>252</td>\n",
       "      <td>2023-07-26</td>\n",
       "    </tr>\n",
       "    <tr>\n",
       "      <th>5980</th>\n",
       "      <td>5980</td>\n",
       "      <td>447277</td>\n",
       "      <td>The Little Mermaid</td>\n",
       "      <td>The youngest of King Triton’s daughters, and t...</td>\n",
       "      <td>/ym1dxyOk4jFcSl4Q2zmRrA5BEEN.jpg</td>\n",
       "      <td>939.962</td>\n",
       "      <td>2023-05-18</td>\n",
       "      <td>6.6</td>\n",
       "      <td>en</td>\n",
       "      <td>6.6</td>\n",
       "      <td>1716</td>\n",
       "      <td>2023-05-18</td>\n",
       "    </tr>\n",
       "    <tr>\n",
       "      <th>606</th>\n",
       "      <td>606</td>\n",
       "      <td>603692</td>\n",
       "      <td>John Wick: Chapter 4</td>\n",
       "      <td>With the price on his head ever increasing, Jo...</td>\n",
       "      <td>/vZloFAK7NmvMGKE7VkF5UHaz0I.jpg</td>\n",
       "      <td>910.097</td>\n",
       "      <td>2023-03-22</td>\n",
       "      <td>7.8</td>\n",
       "      <td>en</td>\n",
       "      <td>7.8</td>\n",
       "      <td>4282</td>\n",
       "      <td>2023-03-22</td>\n",
       "    </tr>\n",
       "    <tr>\n",
       "      <th>1049</th>\n",
       "      <td>1049</td>\n",
       "      <td>1083862</td>\n",
       "      <td>Resident Evil: Death Island</td>\n",
       "      <td>In San Francisco, Jill Valentine is dealing wi...</td>\n",
       "      <td>/qayga07ICNDswm0cMJ8P3VwklFZ.jpg</td>\n",
       "      <td>874.254</td>\n",
       "      <td>2023-06-22</td>\n",
       "      <td>7.6</td>\n",
       "      <td>ja</td>\n",
       "      <td>7.6</td>\n",
       "      <td>598</td>\n",
       "      <td>2023-06-22</td>\n",
       "    </tr>\n",
       "    <tr>\n",
       "      <th>85</th>\n",
       "      <td>85</td>\n",
       "      <td>872585</td>\n",
       "      <td>Oppenheimer</td>\n",
       "      <td>The story of J. Robert Oppenheimer’s role in t...</td>\n",
       "      <td>/8Gxv8gSFCU0XGDykEGv7zR1n2ua.jpg</td>\n",
       "      <td>846.201</td>\n",
       "      <td>2023-07-19</td>\n",
       "      <td>8.3</td>\n",
       "      <td>en</td>\n",
       "      <td>8.3</td>\n",
       "      <td>2589</td>\n",
       "      <td>2023-07-19</td>\n",
       "    </tr>\n",
       "    <tr>\n",
       "      <th>668</th>\n",
       "      <td>668</td>\n",
       "      <td>502356</td>\n",
       "      <td>The Super Mario Bros. Movie</td>\n",
       "      <td>While working underground to fix a water main,...</td>\n",
       "      <td>/qNBAXBIQlnOThrVvA6mA2B5ggV6.jpg</td>\n",
       "      <td>835.221</td>\n",
       "      <td>2023-04-05</td>\n",
       "      <td>7.8</td>\n",
       "      <td>en</td>\n",
       "      <td>7.8</td>\n",
       "      <td>6407</td>\n",
       "      <td>2023-04-05</td>\n",
       "    </tr>\n",
       "    <tr>\n",
       "      <th>5043</th>\n",
       "      <td>5043</td>\n",
       "      <td>1070514</td>\n",
       "      <td>Zom 100: Bucket List of the Dead</td>\n",
       "      <td>Bullied by his boss, worked around the clock, ...</td>\n",
       "      <td>/kD35dB3KOHrLo1Y3RU5xXJ1hI7.jpg</td>\n",
       "      <td>827.761</td>\n",
       "      <td>2023-08-03</td>\n",
       "      <td>6.7</td>\n",
       "      <td>ja</td>\n",
       "      <td>6.7</td>\n",
       "      <td>249</td>\n",
       "      <td>2023-08-03</td>\n",
       "    </tr>\n",
       "    <tr>\n",
       "      <th>1178</th>\n",
       "      <td>1178</td>\n",
       "      <td>1040148</td>\n",
       "      <td>Ruby Gillman, Teenage Kraken</td>\n",
       "      <td>Ruby Gillman, a sweet and awkward high school ...</td>\n",
       "      <td>/kgrLpJcLBbyhWIkK7fx1fM4iSvf.jpg</td>\n",
       "      <td>758.246</td>\n",
       "      <td>2023-06-28</td>\n",
       "      <td>7.6</td>\n",
       "      <td>en</td>\n",
       "      <td>7.6</td>\n",
       "      <td>585</td>\n",
       "      <td>2023-06-28</td>\n",
       "    </tr>\n",
       "    <tr>\n",
       "      <th>190</th>\n",
       "      <td>190</td>\n",
       "      <td>1010581</td>\n",
       "      <td>My Fault</td>\n",
       "      <td>Noah must leave her city, boyfriend, and frien...</td>\n",
       "      <td>/w46Vw536HwNnEzOa7J24YH9DPRS.jpg</td>\n",
       "      <td>623.117</td>\n",
       "      <td>2023-06-08</td>\n",
       "      <td>8.1</td>\n",
       "      <td>es</td>\n",
       "      <td>8.1</td>\n",
       "      <td>1546</td>\n",
       "      <td>2023-06-08</td>\n",
       "    </tr>\n",
       "    <tr>\n",
       "      <th>5449</th>\n",
       "      <td>5449</td>\n",
       "      <td>455476</td>\n",
       "      <td>Knights of the Zodiac</td>\n",
       "      <td>When a headstrong street orphan, Seiya, in sea...</td>\n",
       "      <td>/qW4crfED8mpNDadSmMdi7ZDzhXF.jpg</td>\n",
       "      <td>621.341</td>\n",
       "      <td>2023-04-27</td>\n",
       "      <td>6.7</td>\n",
       "      <td>en</td>\n",
       "      <td>6.7</td>\n",
       "      <td>766</td>\n",
       "      <td>2023-04-27</td>\n",
       "    </tr>\n",
       "    <tr>\n",
       "      <th>203</th>\n",
       "      <td>203</td>\n",
       "      <td>678512</td>\n",
       "      <td>Sound of Freedom</td>\n",
       "      <td>The story of Tim Ballard, a former US governme...</td>\n",
       "      <td>/kSf9svfL2WrKeuK8W08xeR5lTn8.jpg</td>\n",
       "      <td>614.472</td>\n",
       "      <td>2023-07-03</td>\n",
       "      <td>8.1</td>\n",
       "      <td>en</td>\n",
       "      <td>8.1</td>\n",
       "      <td>381</td>\n",
       "      <td>2023-07-03</td>\n",
       "    </tr>\n",
       "    <tr>\n",
       "      <th>505</th>\n",
       "      <td>505</td>\n",
       "      <td>496450</td>\n",
       "      <td>Miraculous: Ladybug &amp; Cat Noir, The Movie</td>\n",
       "      <td>A life of an ordinary Parisian teenager Marine...</td>\n",
       "      <td>/bBON9XO9Ek0DjRwMBnJNCwC96Cd.jpg</td>\n",
       "      <td>612.117</td>\n",
       "      <td>2023-07-05</td>\n",
       "      <td>7.9</td>\n",
       "      <td>fr</td>\n",
       "      <td>7.9</td>\n",
       "      <td>509</td>\n",
       "      <td>2023-07-05</td>\n",
       "    </tr>\n",
       "  </tbody>\n",
       "</table>\n",
       "</div>"
      ],
      "text/plain": [
       "      Unnamed: 0       id                                      title  \\\n",
       "674          674   976573                                  Elemental   \n",
       "3891        3891   615656                          Meg 2: The Trench   \n",
       "3826        3826   724209                             Heart of Stone   \n",
       "1460        1460   667538           Transformers: Rise of the Beasts   \n",
       "21            21   569094        Spider-Man: Across the Spider-Verse   \n",
       "1778        1778   346698                                     Barbie   \n",
       "3856        3856   298618                                  The Flash   \n",
       "4953        4953   709631                                     Cobweb   \n",
       "2219        2219   385687                                     Fast X   \n",
       "2953        2953   884605                           No Hard Feelings   \n",
       "4145        4145   614479                    Insidious: The Red Door   \n",
       "276          276   447365             Guardians of the Galaxy Vol. 3   \n",
       "3215        3215   457332                              Hidden Strike   \n",
       "3289        3289  1008042                                 Talk to Me   \n",
       "5980        5980   447277                         The Little Mermaid   \n",
       "606          606   603692                       John Wick: Chapter 4   \n",
       "1049        1049  1083862                Resident Evil: Death Island   \n",
       "85            85   872585                                Oppenheimer   \n",
       "668          668   502356                The Super Mario Bros. Movie   \n",
       "5043        5043  1070514           Zom 100: Bucket List of the Dead   \n",
       "1178        1178  1040148               Ruby Gillman, Teenage Kraken   \n",
       "190          190  1010581                                   My Fault   \n",
       "5449        5449   455476                      Knights of the Zodiac   \n",
       "203          203   678512                           Sound of Freedom   \n",
       "505          505   496450  Miraculous: Ladybug & Cat Noir, The Movie   \n",
       "\n",
       "                                               overview  \\\n",
       "674   In a city where fire, water, land and air resi...   \n",
       "3891  An exploratory dive into the deepest depths of...   \n",
       "3826  An intelligence operative for a shadowy global...   \n",
       "1460  When a new threat capable of destroying the en...   \n",
       "21    After reuniting with Gwen Stacy, Brooklyn’s fu...   \n",
       "1778  Barbie and Ken are having the time of their li...   \n",
       "3856  When his attempt to save his family inadverten...   \n",
       "4953  Eight year old Peter is plagued by a mysteriou...   \n",
       "2219  Over many missions and against impossible odds...   \n",
       "2953  On the brink of losing her childhood home, Mad...   \n",
       "4145  To put their demons to rest once and for all, ...   \n",
       "276   Peter Quill, still reeling from the loss of Ga...   \n",
       "3215  Two elite soldiers must escort civilians throu...   \n",
       "3289  When a group of friends discover how to conjur...   \n",
       "5980  The youngest of King Triton’s daughters, and t...   \n",
       "606   With the price on his head ever increasing, Jo...   \n",
       "1049  In San Francisco, Jill Valentine is dealing wi...   \n",
       "85    The story of J. Robert Oppenheimer’s role in t...   \n",
       "668   While working underground to fix a water main,...   \n",
       "5043  Bullied by his boss, worked around the clock, ...   \n",
       "1178  Ruby Gillman, a sweet and awkward high school ...   \n",
       "190   Noah must leave her city, boyfriend, and frien...   \n",
       "5449  When a headstrong street orphan, Seiya, in sea...   \n",
       "203   The story of Tim Ballard, a former US governme...   \n",
       "505   A life of an ordinary Parisian teenager Marine...   \n",
       "\n",
       "                           poster_path  popularity release_date  vote_average  \\\n",
       "674   /8riWcADI1ekEiBguVB9vkilhiQm.jpg    4411.076   2023-06-14           7.8   \n",
       "3891   /FQHtuf2zc8suMFE28RyvFt3FJN.jpg    3247.593   2023-08-02           6.9   \n",
       "3826  /vB8o2p4ETnrfiWEgVxHmHWP9yRl.jpg    2899.650   2023-08-09           6.9   \n",
       "1460  /gPbM0MK8CP8A174rmUwGsADNYKD.jpg    2030.046   2023-06-06           7.5   \n",
       "21    /8Vt6mWEReuy4Of61Lnj5Xj704m8.jpg    1872.207   2023-05-31           8.4   \n",
       "1778  /iuFNMS8U5cb6xfzi51Dbkovj7vM.jpg    1869.493   2023-07-19           7.4   \n",
       "3856  /rktDFPbfHfUbArZ6OOOKsXcv0Bm.jpg    1830.716   2023-06-13           7.0   \n",
       "4953  /cGXFosYUHYjjdKrOmA0bbjvzhKz.jpg    1646.909   2023-07-19           6.8   \n",
       "2219  /fiVW06jE7z9YnO4trhaMEdclSiC.jpg    1479.399   2023-05-17           7.3   \n",
       "2953  /gD72DhJ7NbfxvtxGiAzLaa0xaoj.jpg    1362.424   2023-06-15           7.1   \n",
       "4145  /d07phJqCx6z5wILDYqkyraorDPi.jpg    1268.898   2023-07-05           6.9   \n",
       "276   /r2J02Z2OpNTctfOSN1Ydgii51I3.jpg    1015.806   2023-05-03           8.0   \n",
       "3215  /zsbolOkw8RhTU4DKOrpf4M7KCmi.jpg     987.738   2023-07-06           7.1   \n",
       "3289  /kdPMUMJzyYAc4roD52qavX0nLIC.jpg     964.003   2023-07-26           7.1   \n",
       "5980  /ym1dxyOk4jFcSl4Q2zmRrA5BEEN.jpg     939.962   2023-05-18           6.6   \n",
       "606    /vZloFAK7NmvMGKE7VkF5UHaz0I.jpg     910.097   2023-03-22           7.8   \n",
       "1049  /qayga07ICNDswm0cMJ8P3VwklFZ.jpg     874.254   2023-06-22           7.6   \n",
       "85    /8Gxv8gSFCU0XGDykEGv7zR1n2ua.jpg     846.201   2023-07-19           8.3   \n",
       "668   /qNBAXBIQlnOThrVvA6mA2B5ggV6.jpg     835.221   2023-04-05           7.8   \n",
       "5043   /kD35dB3KOHrLo1Y3RU5xXJ1hI7.jpg     827.761   2023-08-03           6.7   \n",
       "1178  /kgrLpJcLBbyhWIkK7fx1fM4iSvf.jpg     758.246   2023-06-28           7.6   \n",
       "190   /w46Vw536HwNnEzOa7J24YH9DPRS.jpg     623.117   2023-06-08           8.1   \n",
       "5449  /qW4crfED8mpNDadSmMdi7ZDzhXF.jpg     621.341   2023-04-27           6.7   \n",
       "203   /kSf9svfL2WrKeuK8W08xeR5lTn8.jpg     614.472   2023-07-03           8.1   \n",
       "505   /bBON9XO9Ek0DjRwMBnJNCwC96Cd.jpg     612.117   2023-07-05           7.9   \n",
       "\n",
       "     original_language  vote_average.1  vote_count release_date.1  \n",
       "674                 en             7.8        1500     2023-06-14  \n",
       "3891                en             6.9         828     2023-08-02  \n",
       "3826                en             6.9         824     2023-08-09  \n",
       "1460                en             7.5        2961     2023-06-06  \n",
       "21                  en             8.4        3811     2023-05-31  \n",
       "1778                en             7.4        3433     2023-07-19  \n",
       "3856                en             7.0        2553     2023-06-13  \n",
       "4953                en             6.8         230     2023-07-19  \n",
       "2219                en             7.3        3498     2023-05-17  \n",
       "2953                en             7.1         941     2023-06-15  \n",
       "4145                en             6.9         981     2023-07-05  \n",
       "276                 en             8.0        4532     2023-05-03  \n",
       "3215                en             7.1         643     2023-07-06  \n",
       "3289                en             7.1         252     2023-07-26  \n",
       "5980                en             6.6        1716     2023-05-18  \n",
       "606                 en             7.8        4282     2023-03-22  \n",
       "1049                ja             7.6         598     2023-06-22  \n",
       "85                  en             8.3        2589     2023-07-19  \n",
       "668                 en             7.8        6407     2023-04-05  \n",
       "5043                ja             6.7         249     2023-08-03  \n",
       "1178                en             7.6         585     2023-06-28  \n",
       "190                 es             8.1        1546     2023-06-08  \n",
       "5449                en             6.7         766     2023-04-27  \n",
       "203                 en             8.1         381     2023-07-03  \n",
       "505                 fr             7.9         509     2023-07-05  "
      ]
     },
     "execution_count": 3,
     "metadata": {},
     "output_type": "execute_result"
    }
   ],
   "source": [
    "movies.sort_values(\"popularity\" , ascending=False).head(25)"
   ]
  },
  {
   "cell_type": "markdown",
   "id": "a5d30464",
   "metadata": {},
   "source": [
    "## Demographic Filtering\n",
    "- we need a metric to score or rate movie\n",
    "- Calculate the score for every movie\n",
    "- Sort the scores and recommend the best rated movie to the users.\n",
    "\n",
    "We can use the average ratings of the movie as the score but using this won't be fair enough since a movie with 8.9 average rating and only 3 votes cannot be considered better than the movie with 7.8 as as average rating but 40 votes. So, I'll be using IMDB's weighted rating (wr) which is given as :-"
   ]
  },
  {
   "attachments": {
    "WR.png": {
     "image/png": "[encoded data removed]"
    }
   },
   "cell_type": "markdown",
   "id": "255b9f38",
   "metadata": {},
   "source": [
    "![WR.png](attachment:WR.png)"
   ]
  },
  {
   "cell_type": "markdown",
   "id": "187da3aa",
   "metadata": {},
   "source": [
    "where,\n",
    "\n",
    "- v is the number of votes for the movie;\n",
    "- m is the minimum votes required to be listed in the chart;\n",
    "- R is the average rating of the movie; And\n",
    "- C is the mean vote across the whole report"
   ]
  },
  {
   "cell_type": "code",
   "execution_count": 5,
   "id": "36a45da1",
   "metadata": {},
   "outputs": [
    {
     "data": {
      "text/plain": [
       "6.77442"
      ]
     },
     "execution_count": 5,
     "metadata": {},
     "output_type": "execute_result"
    }
   ],
   "source": [
    "C= movies['vote_average'].mean()\n",
    "C"
   ]
  },
  {
   "cell_type": "markdown",
   "id": "6541ea9e",
   "metadata": {},
   "source": [
    "- The next step is to choose a suitable value for m, the minimum number of votes necessary to appear in the chart.\n",
    "- Our cutoff will be the 90th percentile. In other words, a film must receive more votes than at least 90% of the other films on the list in order to be in the charts."
   ]
  },
  {
   "cell_type": "code",
   "execution_count": 6,
   "id": "5b96a24c",
   "metadata": {},
   "outputs": [
    {
     "data": {
      "text/plain": [
       "4117.4000000000015"
      ]
     },
     "execution_count": 6,
     "metadata": {},
     "output_type": "execute_result"
    }
   ],
   "source": [
    "m= movies['vote_count'].quantile(0.9)\n",
    "m"
   ]
  },
  {
   "cell_type": "code",
   "execution_count": 20,
   "id": "8048d2c2",
   "metadata": {},
   "outputs": [
    {
     "data": {
      "text/plain": [
       "(1000, 12)"
      ]
     },
     "execution_count": 20,
     "metadata": {},
     "output_type": "execute_result"
    }
   ],
   "source": [
    "new_movies = movies[movies['vote_count']>m]\n",
    "new_movies.shape"
   ]
  },
  {
   "cell_type": "markdown",
   "id": "868fd205",
   "metadata": {},
   "source": [
    "- We see that there are 1000 movies which qualify to be in this list.\n",
    "- Now, we need to calculate our metric for each qualified movie.\n",
    "- To do this, we will define a function, weighted_rating() and define a new feature score, of which we'll calculate the value by applying this function to our DataFrame of qualified movies:"
   ]
  },
  {
   "cell_type": "code",
   "execution_count": 23,
   "id": "6c001db4",
   "metadata": {},
   "outputs": [],
   "source": [
    "def weighted_rating(df , m=m , C=C):\n",
    "    v = df['vote_count']\n",
    "    R = df['vote_average']\n",
    "    # Calculation based on the IMDB formula\n",
    "    return (v/(v+m) * R) + (m/(m+v) * C)"
   ]
  },
  {
   "cell_type": "code",
   "execution_count": 24,
   "id": "e50146ee",
   "metadata": {},
   "outputs": [
    {
     "name": "stderr",
     "output_type": "stream",
     "text": [
      "C:\\Users\\Satya\\AppData\\Local\\Temp\\ipykernel_17928\\1965968634.py:1: SettingWithCopyWarning: \n",
      "A value is trying to be set on a copy of a slice from a DataFrame.\n",
      "Try using .loc[row_indexer,col_indexer] = value instead\n",
      "\n",
      "See the caveats in the documentation: https://pandas.pydata.org/pandas-docs/stable/user_guide/indexing.html#returning-a-view-versus-a-copy\n",
      "  new_movies['score'] = new_movies.apply(weighted_rating, axis=1)\n"
     ]
    },
    {
     "data": {
      "text/html": [
       "<div>\n",
       "<style scoped>\n",
       "    .dataframe tbody tr th:only-of-type {\n",
       "        vertical-align: middle;\n",
       "    }\n",
       "\n",
       "    .dataframe tbody tr th {\n",
       "        vertical-align: top;\n",
       "    }\n",
       "\n",
       "    .dataframe thead th {\n",
       "        text-align: right;\n",
       "    }\n",
       "</style>\n",
       "<table border=\"1\" class=\"dataframe\">\n",
       "  <thead>\n",
       "    <tr style=\"text-align: right;\">\n",
       "      <th></th>\n",
       "      <th>Unnamed: 0</th>\n",
       "      <th>id</th>\n",
       "      <th>title</th>\n",
       "      <th>overview</th>\n",
       "      <th>poster_path</th>\n",
       "      <th>popularity</th>\n",
       "      <th>release_date</th>\n",
       "      <th>vote_average</th>\n",
       "      <th>original_language</th>\n",
       "      <th>vote_average.1</th>\n",
       "      <th>vote_count</th>\n",
       "      <th>release_date.1</th>\n",
       "      <th>score</th>\n",
       "    </tr>\n",
       "  </thead>\n",
       "  <tbody>\n",
       "    <tr>\n",
       "      <th>0</th>\n",
       "      <td>0</td>\n",
       "      <td>238</td>\n",
       "      <td>The Godfather</td>\n",
       "      <td>Spanning the years 1945 to 1955, a chronicle o...</td>\n",
       "      <td>/3bhkrj58Vtu7enYsRolD1fZdja1.jpg</td>\n",
       "      <td>129.844</td>\n",
       "      <td>1972-03-14</td>\n",
       "      <td>8.7</td>\n",
       "      <td>en</td>\n",
       "      <td>8.7</td>\n",
       "      <td>18502</td>\n",
       "      <td>1972-03-14</td>\n",
       "      <td>8.349487</td>\n",
       "    </tr>\n",
       "    <tr>\n",
       "      <th>1</th>\n",
       "      <td>1</td>\n",
       "      <td>278</td>\n",
       "      <td>The Shawshank Redemption</td>\n",
       "      <td>Framed in the 1940s for the double murder of h...</td>\n",
       "      <td>/lyQBXzOQSuE59IsHyhrp0qIiPAz.jpg</td>\n",
       "      <td>134.708</td>\n",
       "      <td>1994-09-23</td>\n",
       "      <td>8.7</td>\n",
       "      <td>en</td>\n",
       "      <td>8.7</td>\n",
       "      <td>24461</td>\n",
       "      <td>1994-09-23</td>\n",
       "      <td>8.422574</td>\n",
       "    </tr>\n",
       "    <tr>\n",
       "      <th>2</th>\n",
       "      <td>2</td>\n",
       "      <td>240</td>\n",
       "      <td>The Godfather Part II</td>\n",
       "      <td>In the continuing saga of the Corleone crime f...</td>\n",
       "      <td>/bMadFzhjy9T7R8J48QGq1ngWNAK.jpg</td>\n",
       "      <td>75.052</td>\n",
       "      <td>1974-12-20</td>\n",
       "      <td>8.6</td>\n",
       "      <td>en</td>\n",
       "      <td>8.6</td>\n",
       "      <td>11184</td>\n",
       "      <td>1974-12-20</td>\n",
       "      <td>8.108761</td>\n",
       "    </tr>\n",
       "    <tr>\n",
       "      <th>3</th>\n",
       "      <td>3</td>\n",
       "      <td>424</td>\n",
       "      <td>Schindler's List</td>\n",
       "      <td>The true story of how businessman Oskar Schind...</td>\n",
       "      <td>/sF1U4EUQS8YHUYjNl3pMGNIQyr0.jpg</td>\n",
       "      <td>60.787</td>\n",
       "      <td>1993-12-15</td>\n",
       "      <td>8.6</td>\n",
       "      <td>en</td>\n",
       "      <td>8.6</td>\n",
       "      <td>14451</td>\n",
       "      <td>1993-12-15</td>\n",
       "      <td>8.195192</td>\n",
       "    </tr>\n",
       "    <tr>\n",
       "      <th>4</th>\n",
       "      <td>4</td>\n",
       "      <td>19404</td>\n",
       "      <td>Dilwale Dulhania Le Jayenge</td>\n",
       "      <td>Raj is a rich, carefree, happy-go-lucky second...</td>\n",
       "      <td>/ktejodbcdCPXbMMdnpI9BUxW6O8.jpg</td>\n",
       "      <td>39.667</td>\n",
       "      <td>1995-10-20</td>\n",
       "      <td>8.6</td>\n",
       "      <td>hi</td>\n",
       "      <td>8.6</td>\n",
       "      <td>4231</td>\n",
       "      <td>1995-10-20</td>\n",
       "      <td>7.699631</td>\n",
       "    </tr>\n",
       "  </tbody>\n",
       "</table>\n",
       "</div>"
      ],
      "text/plain": [
       "   Unnamed: 0     id                        title  \\\n",
       "0           0    238                The Godfather   \n",
       "1           1    278     The Shawshank Redemption   \n",
       "2           2    240        The Godfather Part II   \n",
       "3           3    424             Schindler's List   \n",
       "4           4  19404  Dilwale Dulhania Le Jayenge   \n",
       "\n",
       "                                            overview  \\\n",
       "0  Spanning the years 1945 to 1955, a chronicle o...   \n",
       "1  Framed in the 1940s for the double murder of h...   \n",
       "2  In the continuing saga of the Corleone crime f...   \n",
       "3  The true story of how businessman Oskar Schind...   \n",
       "4  Raj is a rich, carefree, happy-go-lucky second...   \n",
       "\n",
       "                        poster_path  popularity release_date  vote_average  \\\n",
       "0  /3bhkrj58Vtu7enYsRolD1fZdja1.jpg     129.844   1972-03-14           8.7   \n",
       "1  /lyQBXzOQSuE59IsHyhrp0qIiPAz.jpg     134.708   1994-09-23           8.7   \n",
       "2  /bMadFzhjy9T7R8J48QGq1ngWNAK.jpg      75.052   1974-12-20           8.6   \n",
       "3  /sF1U4EUQS8YHUYjNl3pMGNIQyr0.jpg      60.787   1993-12-15           8.6   \n",
       "4  /ktejodbcdCPXbMMdnpI9BUxW6O8.jpg      39.667   1995-10-20           8.6   \n",
       "\n",
       "  original_language  vote_average.1  vote_count release_date.1     score  \n",
       "0                en             8.7       18502     1972-03-14  8.349487  \n",
       "1                en             8.7       24461     1994-09-23  8.422574  \n",
       "2                en             8.6       11184     1974-12-20  8.108761  \n",
       "3                en             8.6       14451     1993-12-15  8.195192  \n",
       "4                hi             8.6        4231     1995-10-20  7.699631  "
      ]
     },
     "execution_count": 24,
     "metadata": {},
     "output_type": "execute_result"
    }
   ],
   "source": [
    "new_movies['score'] = new_movies.apply(weighted_rating, axis=1)\n",
    "\n",
    "new_movies.head(5)"
   ]
  },
  {
   "cell_type": "markdown",
   "id": "c2be1286",
   "metadata": {},
   "source": [
    "Finally, let's sort the DataFrame based on the score feature and output the title, vote count, vote average and weighted rating or score of the top 25 movies."
   ]
  },
  {
   "cell_type": "code",
   "execution_count": 26,
   "id": "28dd99af",
   "metadata": {},
   "outputs": [],
   "source": [
    "#Sort movies based on score calculated above\n",
    "new_movies = new_movies.sort_values('score', ascending=False)"
   ]
  },
  {
   "cell_type": "code",
   "execution_count": 27,
   "id": "a640529b",
   "metadata": {},
   "outputs": [
    {
     "data": {
      "text/html": [
       "<div>\n",
       "<style scoped>\n",
       "    .dataframe tbody tr th:only-of-type {\n",
       "        vertical-align: middle;\n",
       "    }\n",
       "\n",
       "    .dataframe tbody tr th {\n",
       "        vertical-align: top;\n",
       "    }\n",
       "\n",
       "    .dataframe thead th {\n",
       "        text-align: right;\n",
       "    }\n",
       "</style>\n",
       "<table border=\"1\" class=\"dataframe\">\n",
       "  <thead>\n",
       "    <tr style=\"text-align: right;\">\n",
       "      <th></th>\n",
       "      <th>Unnamed: 0</th>\n",
       "      <th>id</th>\n",
       "      <th>title</th>\n",
       "      <th>overview</th>\n",
       "      <th>poster_path</th>\n",
       "      <th>popularity</th>\n",
       "      <th>release_date</th>\n",
       "      <th>vote_average</th>\n",
       "      <th>original_language</th>\n",
       "      <th>vote_average.1</th>\n",
       "      <th>vote_count</th>\n",
       "      <th>release_date.1</th>\n",
       "      <th>score</th>\n",
       "    </tr>\n",
       "  </thead>\n",
       "  <tbody>\n",
       "    <tr>\n",
       "      <th>1</th>\n",
       "      <td>1</td>\n",
       "      <td>278</td>\n",
       "      <td>The Shawshank Redemption</td>\n",
       "      <td>Framed in the 1940s for the double murder of h...</td>\n",
       "      <td>/lyQBXzOQSuE59IsHyhrp0qIiPAz.jpg</td>\n",
       "      <td>134.708</td>\n",
       "      <td>1994-09-23</td>\n",
       "      <td>8.7</td>\n",
       "      <td>en</td>\n",
       "      <td>8.7</td>\n",
       "      <td>24461</td>\n",
       "      <td>1994-09-23</td>\n",
       "      <td>8.422574</td>\n",
       "    </tr>\n",
       "    <tr>\n",
       "      <th>0</th>\n",
       "      <td>0</td>\n",
       "      <td>238</td>\n",
       "      <td>The Godfather</td>\n",
       "      <td>Spanning the years 1945 to 1955, a chronicle o...</td>\n",
       "      <td>/3bhkrj58Vtu7enYsRolD1fZdja1.jpg</td>\n",
       "      <td>129.844</td>\n",
       "      <td>1972-03-14</td>\n",
       "      <td>8.7</td>\n",
       "      <td>en</td>\n",
       "      <td>8.7</td>\n",
       "      <td>18502</td>\n",
       "      <td>1972-03-14</td>\n",
       "      <td>8.349487</td>\n",
       "    </tr>\n",
       "    <tr>\n",
       "      <th>9</th>\n",
       "      <td>9</td>\n",
       "      <td>155</td>\n",
       "      <td>The Dark Knight</td>\n",
       "      <td>Batman raises the stakes in his war on crime. ...</td>\n",
       "      <td>/qJ2tW6WMUDux911r6m7haRef0WH.jpg</td>\n",
       "      <td>97.926</td>\n",
       "      <td>2008-07-14</td>\n",
       "      <td>8.5</td>\n",
       "      <td>en</td>\n",
       "      <td>8.5</td>\n",
       "      <td>30398</td>\n",
       "      <td>2008-07-14</td>\n",
       "      <td>8.294153</td>\n",
       "    </tr>\n",
       "    <tr>\n",
       "      <th>11</th>\n",
       "      <td>11</td>\n",
       "      <td>680</td>\n",
       "      <td>Pulp Fiction</td>\n",
       "      <td>A burger-loving hit man, his philosophical par...</td>\n",
       "      <td>/d5iIlFn5s0ImszYzBPb8JPIfbXD.jpg</td>\n",
       "      <td>78.514</td>\n",
       "      <td>1994-09-10</td>\n",
       "      <td>8.5</td>\n",
       "      <td>en</td>\n",
       "      <td>8.5</td>\n",
       "      <td>25727</td>\n",
       "      <td>1994-09-10</td>\n",
       "      <td>8.261935</td>\n",
       "    </tr>\n",
       "    <tr>\n",
       "      <th>12</th>\n",
       "      <td>12</td>\n",
       "      <td>13</td>\n",
       "      <td>Forrest Gump</td>\n",
       "      <td>A man with a low IQ has accomplished great thi...</td>\n",
       "      <td>/arw2vcBveWOVZr6pxd9XTd1TdQa.jpg</td>\n",
       "      <td>119.193</td>\n",
       "      <td>1994-06-23</td>\n",
       "      <td>8.5</td>\n",
       "      <td>en</td>\n",
       "      <td>8.5</td>\n",
       "      <td>25236</td>\n",
       "      <td>1994-06-23</td>\n",
       "      <td>8.257953</td>\n",
       "    </tr>\n",
       "    <tr>\n",
       "      <th>...</th>\n",
       "      <td>...</td>\n",
       "      <td>...</td>\n",
       "      <td>...</td>\n",
       "      <td>...</td>\n",
       "      <td>...</td>\n",
       "      <td>...</td>\n",
       "      <td>...</td>\n",
       "      <td>...</td>\n",
       "      <td>...</td>\n",
       "      <td>...</td>\n",
       "      <td>...</td>\n",
       "      <td>...</td>\n",
       "      <td>...</td>\n",
       "    </tr>\n",
       "    <tr>\n",
       "      <th>9655</th>\n",
       "      <td>9655</td>\n",
       "      <td>9738</td>\n",
       "      <td>Fantastic Four</td>\n",
       "      <td>During a space voyage, four scientists are alt...</td>\n",
       "      <td>/8HLQLILZLhDQWO6JDpvY6XJLH75.jpg</td>\n",
       "      <td>29.162</td>\n",
       "      <td>2005-06-29</td>\n",
       "      <td>5.8</td>\n",
       "      <td>en</td>\n",
       "      <td>5.8</td>\n",
       "      <td>8720</td>\n",
       "      <td>2005-06-29</td>\n",
       "      <td>6.112530</td>\n",
       "    </tr>\n",
       "    <tr>\n",
       "      <th>9771</th>\n",
       "      <td>9771</td>\n",
       "      <td>223702</td>\n",
       "      <td>Sausage Party</td>\n",
       "      <td>Frank leads a group of supermarket products on...</td>\n",
       "      <td>/sXtlUSKFX93IrD1tL2o0r9oHa5n.jpg</td>\n",
       "      <td>50.477</td>\n",
       "      <td>2016-07-11</td>\n",
       "      <td>5.7</td>\n",
       "      <td>en</td>\n",
       "      <td>5.7</td>\n",
       "      <td>6742</td>\n",
       "      <td>2016-07-11</td>\n",
       "      <td>6.107372</td>\n",
       "    </tr>\n",
       "    <tr>\n",
       "      <th>9847</th>\n",
       "      <td>9847</td>\n",
       "      <td>257344</td>\n",
       "      <td>Pixels</td>\n",
       "      <td>Video game experts are recruited by the milita...</td>\n",
       "      <td>/rV5DzghQv6z6Yagak6ysKE77nuf.jpg</td>\n",
       "      <td>68.911</td>\n",
       "      <td>2015-07-16</td>\n",
       "      <td>5.7</td>\n",
       "      <td>en</td>\n",
       "      <td>5.7</td>\n",
       "      <td>7018</td>\n",
       "      <td>2015-07-16</td>\n",
       "      <td>6.097275</td>\n",
       "    </tr>\n",
       "    <tr>\n",
       "      <th>9508</th>\n",
       "      <td>9508</td>\n",
       "      <td>14161</td>\n",
       "      <td>2012</td>\n",
       "      <td>Dr. Adrian Helmsley, part of a worldwide geoph...</td>\n",
       "      <td>/zaqam2RNscH5ooYFWInV6hjx6y5.jpg</td>\n",
       "      <td>74.452</td>\n",
       "      <td>2009-10-10</td>\n",
       "      <td>5.8</td>\n",
       "      <td>en</td>\n",
       "      <td>5.8</td>\n",
       "      <td>11239</td>\n",
       "      <td>2009-10-10</td>\n",
       "      <td>6.061264</td>\n",
       "    </tr>\n",
       "    <tr>\n",
       "      <th>9158</th>\n",
       "      <td>9158</td>\n",
       "      <td>297761</td>\n",
       "      <td>Suicide Squad</td>\n",
       "      <td>From DC Comics comes the Suicide Squad, an ant...</td>\n",
       "      <td>/xFw9RXKZDvevAGocgBK0zteto4U.jpg</td>\n",
       "      <td>74.357</td>\n",
       "      <td>2016-08-03</td>\n",
       "      <td>5.9</td>\n",
       "      <td>en</td>\n",
       "      <td>5.9</td>\n",
       "      <td>20025</td>\n",
       "      <td>2016-08-03</td>\n",
       "      <td>6.049129</td>\n",
       "    </tr>\n",
       "  </tbody>\n",
       "</table>\n",
       "<p>1000 rows × 13 columns</p>\n",
       "</div>"
      ],
      "text/plain": [
       "      Unnamed: 0      id                     title  \\\n",
       "1              1     278  The Shawshank Redemption   \n",
       "0              0     238             The Godfather   \n",
       "9              9     155           The Dark Knight   \n",
       "11            11     680              Pulp Fiction   \n",
       "12            12      13              Forrest Gump   \n",
       "...          ...     ...                       ...   \n",
       "9655        9655    9738            Fantastic Four   \n",
       "9771        9771  223702             Sausage Party   \n",
       "9847        9847  257344                    Pixels   \n",
       "9508        9508   14161                      2012   \n",
       "9158        9158  297761             Suicide Squad   \n",
       "\n",
       "                                               overview  \\\n",
       "1     Framed in the 1940s for the double murder of h...   \n",
       "0     Spanning the years 1945 to 1955, a chronicle o...   \n",
       "9     Batman raises the stakes in his war on crime. ...   \n",
       "11    A burger-loving hit man, his philosophical par...   \n",
       "12    A man with a low IQ has accomplished great thi...   \n",
       "...                                                 ...   \n",
       "9655  During a space voyage, four scientists are alt...   \n",
       "9771  Frank leads a group of supermarket products on...   \n",
       "9847  Video game experts are recruited by the milita...   \n",
       "9508  Dr. Adrian Helmsley, part of a worldwide geoph...   \n",
       "9158  From DC Comics comes the Suicide Squad, an ant...   \n",
       "\n",
       "                           poster_path  popularity release_date  vote_average  \\\n",
       "1     /lyQBXzOQSuE59IsHyhrp0qIiPAz.jpg     134.708   1994-09-23           8.7   \n",
       "0     /3bhkrj58Vtu7enYsRolD1fZdja1.jpg     129.844   1972-03-14           8.7   \n",
       "9     /qJ2tW6WMUDux911r6m7haRef0WH.jpg      97.926   2008-07-14           8.5   \n",
       "11    /d5iIlFn5s0ImszYzBPb8JPIfbXD.jpg      78.514   1994-09-10           8.5   \n",
       "12    /arw2vcBveWOVZr6pxd9XTd1TdQa.jpg     119.193   1994-06-23           8.5   \n",
       "...                                ...         ...          ...           ...   \n",
       "9655  /8HLQLILZLhDQWO6JDpvY6XJLH75.jpg      29.162   2005-06-29           5.8   \n",
       "9771  /sXtlUSKFX93IrD1tL2o0r9oHa5n.jpg      50.477   2016-07-11           5.7   \n",
       "9847  /rV5DzghQv6z6Yagak6ysKE77nuf.jpg      68.911   2015-07-16           5.7   \n",
       "9508  /zaqam2RNscH5ooYFWInV6hjx6y5.jpg      74.452   2009-10-10           5.8   \n",
       "9158  /xFw9RXKZDvevAGocgBK0zteto4U.jpg      74.357   2016-08-03           5.9   \n",
       "\n",
       "     original_language  vote_average.1  vote_count release_date.1     score  \n",
       "1                   en             8.7       24461     1994-09-23  8.422574  \n",
       "0                   en             8.7       18502     1972-03-14  8.349487  \n",
       "9                   en             8.5       30398     2008-07-14  8.294153  \n",
       "11                  en             8.5       25727     1994-09-10  8.261935  \n",
       "12                  en             8.5       25236     1994-06-23  8.257953  \n",
       "...                ...             ...         ...            ...       ...  \n",
       "9655                en             5.8        8720     2005-06-29  6.112530  \n",
       "9771                en             5.7        6742     2016-07-11  6.107372  \n",
       "9847                en             5.7        7018     2015-07-16  6.097275  \n",
       "9508                en             5.8       11239     2009-10-10  6.061264  \n",
       "9158                en             5.9       20025     2016-08-03  6.049129  \n",
       "\n",
       "[1000 rows x 13 columns]"
      ]
     },
     "execution_count": 27,
     "metadata": {},
     "output_type": "execute_result"
    }
   ],
   "source": [
    "new_movies"
   ]
  },
  {
   "cell_type": "code",
   "execution_count": 29,
   "id": "457f27e5",
   "metadata": {},
   "outputs": [
    {
     "data": {
      "text/html": [
       "<div>\n",
       "<style scoped>\n",
       "    .dataframe tbody tr th:only-of-type {\n",
       "        vertical-align: middle;\n",
       "    }\n",
       "\n",
       "    .dataframe tbody tr th {\n",
       "        vertical-align: top;\n",
       "    }\n",
       "\n",
       "    .dataframe thead th {\n",
       "        text-align: right;\n",
       "    }\n",
       "</style>\n",
       "<table border=\"1\" class=\"dataframe\">\n",
       "  <thead>\n",
       "    <tr style=\"text-align: right;\">\n",
       "      <th></th>\n",
       "      <th>title</th>\n",
       "      <th>vote_count</th>\n",
       "      <th>vote_average</th>\n",
       "      <th>score</th>\n",
       "    </tr>\n",
       "  </thead>\n",
       "  <tbody>\n",
       "    <tr>\n",
       "      <th>1</th>\n",
       "      <td>The Shawshank Redemption</td>\n",
       "      <td>24461</td>\n",
       "      <td>8.7</td>\n",
       "      <td>8.422574</td>\n",
       "    </tr>\n",
       "    <tr>\n",
       "      <th>0</th>\n",
       "      <td>The Godfather</td>\n",
       "      <td>18502</td>\n",
       "      <td>8.7</td>\n",
       "      <td>8.349487</td>\n",
       "    </tr>\n",
       "    <tr>\n",
       "      <th>9</th>\n",
       "      <td>The Dark Knight</td>\n",
       "      <td>30398</td>\n",
       "      <td>8.5</td>\n",
       "      <td>8.294153</td>\n",
       "    </tr>\n",
       "    <tr>\n",
       "      <th>11</th>\n",
       "      <td>Pulp Fiction</td>\n",
       "      <td>25727</td>\n",
       "      <td>8.5</td>\n",
       "      <td>8.261935</td>\n",
       "    </tr>\n",
       "    <tr>\n",
       "      <th>12</th>\n",
       "      <td>Forrest Gump</td>\n",
       "      <td>25236</td>\n",
       "      <td>8.5</td>\n",
       "      <td>8.257953</td>\n",
       "    </tr>\n",
       "    <tr>\n",
       "      <th>13</th>\n",
       "      <td>The Lord of the Rings: The Return of the King</td>\n",
       "      <td>22101</td>\n",
       "      <td>8.5</td>\n",
       "      <td>8.229011</td>\n",
       "    </tr>\n",
       "    <tr>\n",
       "      <th>49</th>\n",
       "      <td>Inception</td>\n",
       "      <td>34320</td>\n",
       "      <td>8.4</td>\n",
       "      <td>8.225868</td>\n",
       "    </tr>\n",
       "    <tr>\n",
       "      <th>33</th>\n",
       "      <td>Interstellar</td>\n",
       "      <td>32294</td>\n",
       "      <td>8.4</td>\n",
       "      <td>8.216179</td>\n",
       "    </tr>\n",
       "    <tr>\n",
       "      <th>3</th>\n",
       "      <td>Schindler's List</td>\n",
       "      <td>14451</td>\n",
       "      <td>8.6</td>\n",
       "      <td>8.195192</td>\n",
       "    </tr>\n",
       "    <tr>\n",
       "      <th>25</th>\n",
       "      <td>Fight Club</td>\n",
       "      <td>27034</td>\n",
       "      <td>8.4</td>\n",
       "      <td>8.185141</td>\n",
       "    </tr>\n",
       "    <tr>\n",
       "      <th>38</th>\n",
       "      <td>The Lord of the Rings: The Fellowship of the Ring</td>\n",
       "      <td>23158</td>\n",
       "      <td>8.4</td>\n",
       "      <td>8.154608</td>\n",
       "    </tr>\n",
       "    <tr>\n",
       "      <th>8</th>\n",
       "      <td>Parasite</td>\n",
       "      <td>16270</td>\n",
       "      <td>8.5</td>\n",
       "      <td>8.151505</td>\n",
       "    </tr>\n",
       "    <tr>\n",
       "      <th>10</th>\n",
       "      <td>The Green Mile</td>\n",
       "      <td>15805</td>\n",
       "      <td>8.5</td>\n",
       "      <td>8.143371</td>\n",
       "    </tr>\n",
       "    <tr>\n",
       "      <th>5</th>\n",
       "      <td>Spirited Away</td>\n",
       "      <td>14777</td>\n",
       "      <td>8.5</td>\n",
       "      <td>8.123968</td>\n",
       "    </tr>\n",
       "    <tr>\n",
       "      <th>43</th>\n",
       "      <td>The Lord of the Rings: The Two Towers</td>\n",
       "      <td>20124</td>\n",
       "      <td>8.4</td>\n",
       "      <td>8.123895</td>\n",
       "    </tr>\n",
       "    <tr>\n",
       "      <th>47</th>\n",
       "      <td>Se7en</td>\n",
       "      <td>19262</td>\n",
       "      <td>8.4</td>\n",
       "      <td>8.113715</td>\n",
       "    </tr>\n",
       "    <tr>\n",
       "      <th>2</th>\n",
       "      <td>The Godfather Part II</td>\n",
       "      <td>11184</td>\n",
       "      <td>8.6</td>\n",
       "      <td>8.108761</td>\n",
       "    </tr>\n",
       "    <tr>\n",
       "      <th>99</th>\n",
       "      <td>Avengers: Infinity War</td>\n",
       "      <td>27543</td>\n",
       "      <td>8.3</td>\n",
       "      <td>8.101600</td>\n",
       "    </tr>\n",
       "    <tr>\n",
       "      <th>94</th>\n",
       "      <td>Avengers: Endgame</td>\n",
       "      <td>23710</td>\n",
       "      <td>8.3</td>\n",
       "      <td>8.074272</td>\n",
       "    </tr>\n",
       "    <tr>\n",
       "      <th>17</th>\n",
       "      <td>Life Is Beautiful</td>\n",
       "      <td>12133</td>\n",
       "      <td>8.5</td>\n",
       "      <td>8.062786</td>\n",
       "    </tr>\n",
       "    <tr>\n",
       "      <th>41</th>\n",
       "      <td>The Empire Strikes Back</td>\n",
       "      <td>15670</td>\n",
       "      <td>8.4</td>\n",
       "      <td>8.061746</td>\n",
       "    </tr>\n",
       "    <tr>\n",
       "      <th>15</th>\n",
       "      <td>GoodFellas</td>\n",
       "      <td>11628</td>\n",
       "      <td>8.5</td>\n",
       "      <td>8.048763</td>\n",
       "    </tr>\n",
       "    <tr>\n",
       "      <th>35</th>\n",
       "      <td>Spider-Man: Into the Spider-Verse</td>\n",
       "      <td>13847</td>\n",
       "      <td>8.4</td>\n",
       "      <td>8.027421</td>\n",
       "    </tr>\n",
       "    <tr>\n",
       "      <th>45</th>\n",
       "      <td>Whiplash</td>\n",
       "      <td>13785</td>\n",
       "      <td>8.4</td>\n",
       "      <td>8.026130</td>\n",
       "    </tr>\n",
       "    <tr>\n",
       "      <th>66</th>\n",
       "      <td>Back to the Future</td>\n",
       "      <td>18319</td>\n",
       "      <td>8.3</td>\n",
       "      <td>8.020034</td>\n",
       "    </tr>\n",
       "  </tbody>\n",
       "</table>\n",
       "</div>"
      ],
      "text/plain": [
       "                                                title  vote_count  \\\n",
       "1                            The Shawshank Redemption       24461   \n",
       "0                                       The Godfather       18502   \n",
       "9                                     The Dark Knight       30398   \n",
       "11                                       Pulp Fiction       25727   \n",
       "12                                       Forrest Gump       25236   \n",
       "13      The Lord of the Rings: The Return of the King       22101   \n",
       "49                                          Inception       34320   \n",
       "33                                       Interstellar       32294   \n",
       "3                                    Schindler's List       14451   \n",
       "25                                         Fight Club       27034   \n",
       "38  The Lord of the Rings: The Fellowship of the Ring       23158   \n",
       "8                                            Parasite       16270   \n",
       "10                                     The Green Mile       15805   \n",
       "5                                       Spirited Away       14777   \n",
       "43              The Lord of the Rings: The Two Towers       20124   \n",
       "47                                              Se7en       19262   \n",
       "2                               The Godfather Part II       11184   \n",
       "99                             Avengers: Infinity War       27543   \n",
       "94                                  Avengers: Endgame       23710   \n",
       "17                                  Life Is Beautiful       12133   \n",
       "41                            The Empire Strikes Back       15670   \n",
       "15                                         GoodFellas       11628   \n",
       "35                  Spider-Man: Into the Spider-Verse       13847   \n",
       "45                                           Whiplash       13785   \n",
       "66                                 Back to the Future       18319   \n",
       "\n",
       "    vote_average     score  \n",
       "1            8.7  8.422574  \n",
       "0            8.7  8.349487  \n",
       "9            8.5  8.294153  \n",
       "11           8.5  8.261935  \n",
       "12           8.5  8.257953  \n",
       "13           8.5  8.229011  \n",
       "49           8.4  8.225868  \n",
       "33           8.4  8.216179  \n",
       "3            8.6  8.195192  \n",
       "25           8.4  8.185141  \n",
       "38           8.4  8.154608  \n",
       "8            8.5  8.151505  \n",
       "10           8.5  8.143371  \n",
       "5            8.5  8.123968  \n",
       "43           8.4  8.123895  \n",
       "47           8.4  8.113715  \n",
       "2            8.6  8.108761  \n",
       "99           8.3  8.101600  \n",
       "94           8.3  8.074272  \n",
       "17           8.5  8.062786  \n",
       "41           8.4  8.061746  \n",
       "15           8.5  8.048763  \n",
       "35           8.4  8.027421  \n",
       "45           8.4  8.026130  \n",
       "66           8.3  8.020034  "
      ]
     },
     "execution_count": 29,
     "metadata": {},
     "output_type": "execute_result"
    }
   ],
   "source": [
    "new_movies[['title', 'vote_count', 'vote_average', 'score']].head(25)"
   ]
  },
  {
   "cell_type": "code",
   "execution_count": 33,
   "id": "9ba9a48c",
   "metadata": {},
   "outputs": [
    {
     "data": {
      "text/plain": [
       "'https://image.tmdb.org/t/p/w500//3bhkrj58Vtu7enYsRolD1fZdja1.jpg'"
      ]
     },
     "execution_count": 33,
     "metadata": {},
     "output_type": "execute_result"
    }
   ],
   "source": [
    "\"https://image.tmdb.org/t/p/w500/\" + new_movies['poster_path'][0]"
   ]
  },
  {
   "cell_type": "code",
   "execution_count": 58,
   "id": "63ac83cf",
   "metadata": {},
   "outputs": [],
   "source": [
    "\n",
    "def top_movies(movies_df):\n",
    "    names = []\n",
    "    posters = []\n",
    "    ids =[]\n",
    "    for i in range(movies.head().shape[0]):\n",
    "        title = movies[\"title\"][i]\n",
    "        names.append(title)\n",
    "    \n",
    "        poster = movies['poster_path'][i]\n",
    "        full_post = \"https://image.tmdb.org/t/p/w500/\" + poster\n",
    "        posters.append(full_post)\n",
    "    \n",
    "        ids.append(movies['id'][i])\n",
    "    \n",
    "    return names , posters , ids"
   ]
  },
  {
   "cell_type": "code",
   "execution_count": 64,
   "id": "b9d64303",
   "metadata": {},
   "outputs": [
    {
     "data": {
      "text/plain": [
       "(['The Godfather',\n",
       "  'The Shawshank Redemption',\n",
       "  'The Godfather Part II',\n",
       "  \"Schindler's List\",\n",
       "  'Dilwale Dulhania Le Jayenge'],\n",
       " ['https://image.tmdb.org/t/p/w500//3bhkrj58Vtu7enYsRolD1fZdja1.jpg',\n",
       "  'https://image.tmdb.org/t/p/w500//lyQBXzOQSuE59IsHyhrp0qIiPAz.jpg',\n",
       "  'https://image.tmdb.org/t/p/w500//bMadFzhjy9T7R8J48QGq1ngWNAK.jpg',\n",
       "  'https://image.tmdb.org/t/p/w500//sF1U4EUQS8YHUYjNl3pMGNIQyr0.jpg',\n",
       "  'https://image.tmdb.org/t/p/w500//ktejodbcdCPXbMMdnpI9BUxW6O8.jpg'],\n",
       " [238, 278, 240, 424, 19404])"
      ]
     },
     "execution_count": 64,
     "metadata": {},
     "output_type": "execute_result"
    }
   ],
   "source": [
    "top_movies(new_movies)"
   ]
  },
  {
   "cell_type": "code",
   "execution_count": 66,
   "id": "b9c3f7d5",
   "metadata": {},
   "outputs": [],
   "source": [
    "import pickle\n",
    "pickle.dump(new_movies , open('top_movies.pkl' , 'wb'))"
   ]
  },
  {
   "cell_type": "code",
   "execution_count": null,
   "id": "aa7e3d69",
   "metadata": {},
   "outputs": [],
   "source": []
  }
 ],
 "metadata": {
  "kernelspec": {
   "display_name": "Python 3 (ipykernel)",
   "language": "python",
   "name": "python3"
  },
  "language_info": {
   "codemirror_mode": {
    "name": "ipython",
    "version": 3
   },
   "file_extension": ".py",
   "mimetype": "text/x-python",
   "name": "python",
   "nbconvert_exporter": "python",
   "pygments_lexer": "ipython3",
   "version": "3.10.9"
  }
 },
 "nbformat": 4,
 "nbformat_minor": 5
}

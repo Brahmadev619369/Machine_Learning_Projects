{
 "cells": [
  {
   "cell_type": "code",
   "execution_count": 7,
   "id": "6c0e0f83",
   "metadata": {},
   "outputs": [],
   "source": [
    "import h5py, os\n",
    "import matplotlib.pyplot as plt\n",
    "import os\n",
    "import cv2 as cv\n",
    "import numpy as np"
   ]
  },
  {
   "cell_type": "code",
   "execution_count": 12,
   "id": "14b9cbaa",
   "metadata": {},
   "outputs": [],
   "source": [
    "for i in [\"Meningioma\",\"Glioma\",\"Pituitary\"]:\n",
    "    os.makedirs(os.path.join(\"Images\",i),exist_ok=True)\n",
    "    os.makedirs(os.path.join(\"Mask\",i),exist_ok=True)\n",
    "\n",
    "\n",
    "classes = {1:\"Meningioma\",2:\"Glioma\",3:\"Pituitary\"}\n",
    "image_path = \"Images\"\n",
    "mask_path = \"Mask\"\n",
    "for i in range(1,3065):\n",
    "    mat_file = h5py.File(os.path.join(r\"brainTumorDataPublic\",f\"{i}.mat\"), 'r') \n",
    "    for j in mat_file['cjdata']['label']:\n",
    "        label = int(j[0])\n",
    "        \n",
    "    image = mat_file['cjdata']['image']\n",
    "    cnvt_img = np.asarray(image)\n",
    "    rot_img = cv.rotate(cnvt_img,cv.ROTATE_90_CLOCKWISE)\n",
    "    image = cv.flip(rot_img,1)\n",
    "    \n",
    "    \n",
    "    mask = mat_file['cjdata']['tumorMask']\n",
    "    cnvt_mask = np.asarray(mask)\n",
    "    rot_mask = cv.rotate(cnvt_mask,cv.ROTATE_90_CLOCKWISE)\n",
    "    mask = cv.flip(rot_mask,1)\n",
    "    \n",
    "    \n",
    "    plt.imsave(os.path.join(mask_path,classes[label],str(i)+'.png'),mask)\n",
    "    plt.imsave(os.path.join(image_path,classes[label],str(i)+'.png'),image)"
   ]
  },
  {
   "cell_type": "code",
   "execution_count": null,
   "id": "004ce94f",
   "metadata": {},
   "outputs": [],
   "source": []
  }
 ],
 "metadata": {
  "kernelspec": {
   "display_name": "Python 3 (ipykernel)",
   "language": "python",
   "name": "python3"
  },
  "language_info": {
   "codemirror_mode": {
    "name": "ipython",
    "version": 3
   },
   "file_extension": ".py",
   "mimetype": "text/x-python",
   "name": "python",
   "nbconvert_exporter": "python",
   "pygments_lexer": "ipython3",
   "version": "3.10.9"
  }
 },
 "nbformat": 4,
 "nbformat_minor": 5
}
